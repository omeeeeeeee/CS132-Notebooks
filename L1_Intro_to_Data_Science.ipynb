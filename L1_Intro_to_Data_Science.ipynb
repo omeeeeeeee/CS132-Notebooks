{
  "nbformat": 4,
  "nbformat_minor": 0,
  "metadata": {
    "colab": {
      "provenance": [],
      "toc_visible": true
    },
    "kernelspec": {
      "name": "python3",
      "display_name": "Python 3"
    },
    "language_info": {
      "name": "python"
    }
  },
  "cells": [
    {
      "cell_type": "markdown",
      "source": [
        "# Lesson 1: Introduction to Data Science\n",
        "\n",
        "Hello there! In this lesson, we'll explore some basic data processing techniques using Python.\n",
        "\n",
        "First, let's load up the data sets. We will use two data sets, Amazon Reviews, and Titanic Passengers, as examples of unstructured and structured data.\n",
        "\n",
        "The Python Data Analysis Library (pandas) is a great tool for organizing our data. Here, we will load the data into [Data Frames](https://pandas.pydata.org/docs/reference/api/pandas.DataFrame.html), which are tabular data structures.\n",
        "\n",
        "Note that, for most of the examples here, there are several ways to achieve the same results (e.g., using numpy, scipy, statistics, and other libraries). It is always best to check the forums and see which way is the most efficient and appropriate for your specific problem."
      ],
      "metadata": {
        "id": "F2-XzKnySqhi"
      }
    },
    {
      "cell_type": "code",
      "source": [
        "# Load datasets\n",
        "import pandas as pd\n",
        "import csv\n",
        "\n",
        "# Amazon Review Data\n",
        "url_amazon = 'https://drive.google.com/file/d/1MR1OKC6eimuRNUr8Z7z9oIJ98kyFsT7k/view?usp=share_link'\n",
        "url_amazon = 'https://drive.google.com/uc?id=' + url_amazon.split('/')[-2]\n",
        "df_amazon = pd.read_csv(url_amazon,sep='\\t', names=['label','text'], quoting=csv.QUOTE_NONE)\n",
        "\n",
        "# Titanic Passengers Data\n",
        "url_titanic = 'https://drive.google.com/file/d/1gq9zHF_uZrmb4Tr3iskDVcgw7jKMaRG4/view?usp=share_link'\n",
        "url_titanic = 'https://drive.google.com/uc?id=' + url_titanic.split('/')[-2]\n",
        "df_titanic = pd.read_csv(url_titanic, sep=',')"
      ],
      "metadata": {
        "id": "O_30jbLBUUvI"
      },
      "execution_count": null,
      "outputs": []
    },
    {
      "cell_type": "markdown",
      "source": [
        "##A. Unstructured Data\n",
        "\n",
        "The Amazon Review data set contains two features:\n",
        "* `label`: 1 for 1- or 2-star reviews; 2 for 4- or 5-star reviews\n",
        "* `text`: actual review\n",
        "\n",
        "Since we're dealing with raw text, we need to preprocess the data before performing any analysis."
      ],
      "metadata": {
        "id": "FknfZDDLTH6i"
      }
    },
    {
      "cell_type": "code",
      "execution_count": null,
      "metadata": {
        "id": "4mEQsSVYhkAH",
        "colab": {
          "base_uri": "https://localhost:8080/",
          "height": 693
        },
        "outputId": "19e42263-1ea8-46d7-8231-79611c1d760b"
      },
      "outputs": [
        {
          "output_type": "stream",
          "name": "stdout",
          "text": [
            "Amazon Review Data (samples):\n"
          ]
        },
        {
          "output_type": "execute_result",
          "data": {
            "text/plain": [
              "<pandas.io.formats.style.Styler at 0x7f86bd9e31f0>"
            ],
            "text/html": [
              "<style type=\"text/css\">\n",
              "#T_c7e89_row0_col0, #T_c7e89_row0_col1, #T_c7e89_row1_col0, #T_c7e89_row1_col1, #T_c7e89_row2_col0, #T_c7e89_row2_col1, #T_c7e89_row3_col0, #T_c7e89_row3_col1, #T_c7e89_row4_col0, #T_c7e89_row4_col1, #T_c7e89_row5_col0, #T_c7e89_row5_col1, #T_c7e89_row6_col0, #T_c7e89_row6_col1, #T_c7e89_row7_col0, #T_c7e89_row7_col1, #T_c7e89_row8_col0, #T_c7e89_row8_col1, #T_c7e89_row9_col0, #T_c7e89_row9_col1 {\n",
              "  text-align: left;\n",
              "}\n",
              "</style>\n",
              "<table id=\"T_c7e89_\" class=\"dataframe\">\n",
              "  <thead>\n",
              "    <tr>\n",
              "      <th class=\"blank level0\" >&nbsp;</th>\n",
              "      <th class=\"col_heading level0 col0\" >label</th>\n",
              "      <th class=\"col_heading level0 col1\" >text</th>\n",
              "    </tr>\n",
              "  </thead>\n",
              "  <tbody>\n",
              "    <tr>\n",
              "      <th id=\"T_c7e89_level0_row0\" class=\"row_heading level0 row0\" >0</th>\n",
              "      <td id=\"T_c7e89_row0_col0\" class=\"data row0 col0\" >__label__2</td>\n",
              "      <td id=\"T_c7e89_row0_col1\" class=\"data row0 col1\" >Great CD: My lovely Pat has one of the GREAT voices of her generation. I have listened to this CD for YEARS and I still LOVE IT. When I'm in a good mood it makes me feel better. A bad mood just evaporates like sugar in the rain. This CD just oozes LIFE. Vocals are jusat STUUNNING and lyrics just kill. One of life's hidden gems. This is a desert isle CD in my book. Why she never made it big is just beyond me. Everytime I play this, no matter black, white, young, old, male, female EVERYBODY says one thing \"Who was that singing ?\"</td>\n",
              "    </tr>\n",
              "    <tr>\n",
              "      <th id=\"T_c7e89_level0_row1\" class=\"row_heading level0 row1\" >1</th>\n",
              "      <td id=\"T_c7e89_row1_col0\" class=\"data row1 col0\" >__label__2</td>\n",
              "      <td id=\"T_c7e89_row1_col1\" class=\"data row1 col1\" >One of the best game music soundtracks - for a game I didn't really play: Despite the fact that I have only played a small portion of the game, the music I heard (plus the connection to Chrono Trigger which was great as well) led me to purchase the soundtrack, and it remains one of my favorite albums. There is an incredible mix of fun, epic, and emotional songs. Those sad and beautiful tracks I especially like, as there's not too many of those kinds of songs in my other video game soundtracks. I must admit that one of the songs (Life-A Distant Promise) has brought tears to my eyes on many occasions.My one complaint about this soundtrack is that they use guitar fretting effects in many of the songs, which I find distracting. But even if those weren't included I would still consider the collection worth it.</td>\n",
              "    </tr>\n",
              "    <tr>\n",
              "      <th id=\"T_c7e89_level0_row2\" class=\"row_heading level0 row2\" >2</th>\n",
              "      <td id=\"T_c7e89_row2_col0\" class=\"data row2 col0\" >__label__1</td>\n",
              "      <td id=\"T_c7e89_row2_col1\" class=\"data row2 col1\" >Batteries died within a year ...: I bought this charger in Jul 2003 and it worked OK for a while. The design is nice and convenient. However, after about a year, the batteries would not hold a charge. Might as well just get alkaline disposables, or look elsewhere for a charger that comes with batteries that have better staying power.</td>\n",
              "    </tr>\n",
              "    <tr>\n",
              "      <th id=\"T_c7e89_level0_row3\" class=\"row_heading level0 row3\" >3</th>\n",
              "      <td id=\"T_c7e89_row3_col0\" class=\"data row3 col0\" >__label__2</td>\n",
              "      <td id=\"T_c7e89_row3_col1\" class=\"data row3 col1\" >works fine, but Maha Energy is better: Check out Maha Energy's website. Their Powerex MH-C204F charger works in 100 minutes for rapid charge, with option for slower charge (better for batteries). And they have 2200 mAh batteries.</td>\n",
              "    </tr>\n",
              "    <tr>\n",
              "      <th id=\"T_c7e89_level0_row4\" class=\"row_heading level0 row4\" >4</th>\n",
              "      <td id=\"T_c7e89_row4_col0\" class=\"data row4 col0\" >__label__2</td>\n",
              "      <td id=\"T_c7e89_row4_col1\" class=\"data row4 col1\" >Great for the non-audiophile: Reviewed quite a bit of the combo players and was hesitant due to unfavorable reviews and size of machines. I am weaning off my VHS collection, but don't want to replace them with DVD's. This unit is well built, easy to setup and resolution and special effects (no progressive scan for HDTV owners) suitable for many people looking for a versatile product.Cons- No universal remote.</td>\n",
              "    </tr>\n",
              "    <tr>\n",
              "      <th id=\"T_c7e89_level0_row5\" class=\"row_heading level0 row5\" >5</th>\n",
              "      <td id=\"T_c7e89_row5_col0\" class=\"data row5 col0\" >__label__1</td>\n",
              "      <td id=\"T_c7e89_row5_col1\" class=\"data row5 col1\" >DVD Player crapped out after one year: I also began having the incorrect disc problems that I've read about on here. The VCR still works, but hte DVD side is useless. I understand that DVD players sometimes just quit on you, but after not even one year? To me that's a sign on bad quality. I'm giving up JVC after this as well. I'm sticking to Sony or giving another brand a shot.</td>\n",
              "    </tr>\n",
              "    <tr>\n",
              "      <th id=\"T_c7e89_level0_row6\" class=\"row_heading level0 row6\" >6</th>\n",
              "      <td id=\"T_c7e89_row6_col0\" class=\"data row6 col0\" >__label__1</td>\n",
              "      <td id=\"T_c7e89_row6_col1\" class=\"data row6 col1\" >Incorrect Disc: I love the style of this, but after a couple years, the DVD is giving me problems. It doesn't even work anymore and I use my broken PS2 Now. I wouldn't recommend this, I'm just going to upgrade to a recorder now. I wish it would work but I guess i'm giving up on JVC. I really did like this one... before it stopped working. The dvd player gave me problems probably after a year of having it.</td>\n",
              "    </tr>\n",
              "    <tr>\n",
              "      <th id=\"T_c7e89_level0_row7\" class=\"row_heading level0 row7\" >7</th>\n",
              "      <td id=\"T_c7e89_row7_col0\" class=\"data row7 col0\" >__label__1</td>\n",
              "      <td id=\"T_c7e89_row7_col1\" class=\"data row7 col1\" >DVD menu select problems: I cannot scroll through a DVD menu that is set up vertically. The triangle keys will only select horizontally. So I cannot select anything on most DVD's besides play. No special features, no language select, nothing, just play.</td>\n",
              "    </tr>\n",
              "    <tr>\n",
              "      <th id=\"T_c7e89_level0_row8\" class=\"row_heading level0 row8\" >8</th>\n",
              "      <td id=\"T_c7e89_row8_col0\" class=\"data row8 col0\" >__label__2</td>\n",
              "      <td id=\"T_c7e89_row8_col1\" class=\"data row8 col1\" >Unique Weird Orientalia from the 1930's: Exotic tales of the Orient from the 1930's. \"Dr Shen Fu\", a Weird Tales magazine reprint, is about the elixir of life that grants immortality at a price. If you're tired of modern authors who all sound alike, this is the antidote for you. Owen's palette is loaded with splashes of Chinese and Japanese colours. Marvelous.</td>\n",
              "    </tr>\n",
              "    <tr>\n",
              "      <th id=\"T_c7e89_level0_row9\" class=\"row_heading level0 row9\" >9</th>\n",
              "      <td id=\"T_c7e89_row9_col0\" class=\"data row9 col0\" >__label__1</td>\n",
              "      <td id=\"T_c7e89_row9_col1\" class=\"data row9 col1\" >Not an \"ultimate guide\": Firstly,I enjoyed the format and tone of the book (how the author addressed the reader). However, I did not feel that she imparted any insider secrets that the book promised to reveal. If you are just starting to research law school, and do not know all the requirements of admission, then this book may be a tremendous help. If you have done your homework and are looking for an edge when it comes to admissions, I recommend some more topic-specific books. For example, books on how to write your personal statment, books geared specifically towards LSAT preparation (Powerscore books were the most helpful for me), and there are some websites with great advice geared towards aiding the individuals whom you are asking to write letters of recommendation. Yet, for those new to the entire affair, this book can definitely clarify the requirements for you.</td>\n",
              "    </tr>\n",
              "  </tbody>\n",
              "</table>\n"
            ]
          },
          "metadata": {},
          "execution_count": 2
        }
      ],
      "source": [
        "# Amazon Review Data\n",
        "print(\"Amazon Review Data (samples):\")\n",
        "df_amazon.head(10).style.set_properties(**{'text-align': 'left'})"
      ]
    },
    {
      "cell_type": "markdown",
      "source": [
        "### Counting words\n",
        "Counting the number of words/phrases in the texts could tell us a few things. \n",
        "\n",
        "*How long are Amazon reviews typically?* \n",
        "*Are bad reviews longer than good reviews?*"
      ],
      "metadata": {
        "id": "DjVfmRC9Trmj"
      }
    },
    {
      "cell_type": "code",
      "source": [
        "# Count number of words\n",
        "print(\"Review word count:\")\n",
        "df_amazon['count'] = df_amazon['text'].str.split().str.len()\n",
        "df_amazon.head(10).style"
      ],
      "metadata": {
        "colab": {
          "base_uri": "https://localhost:8080/",
          "height": 710
        },
        "id": "mguj8Cbr-NZT",
        "outputId": "a0c2451e-d801-4f9d-c88b-da012e9901c8"
      },
      "execution_count": null,
      "outputs": [
        {
          "output_type": "stream",
          "name": "stdout",
          "text": [
            "Review word count:\n"
          ]
        },
        {
          "output_type": "execute_result",
          "data": {
            "text/plain": [
              "<pandas.io.formats.style.Styler at 0x7f86bd38a880>"
            ],
            "text/html": [
              "<style type=\"text/css\">\n",
              "</style>\n",
              "<table id=\"T_b7417_\" class=\"dataframe\">\n",
              "  <thead>\n",
              "    <tr>\n",
              "      <th class=\"blank level0\" >&nbsp;</th>\n",
              "      <th class=\"col_heading level0 col0\" >label</th>\n",
              "      <th class=\"col_heading level0 col1\" >text</th>\n",
              "      <th class=\"col_heading level0 col2\" >count</th>\n",
              "    </tr>\n",
              "  </thead>\n",
              "  <tbody>\n",
              "    <tr>\n",
              "      <th id=\"T_b7417_level0_row0\" class=\"row_heading level0 row0\" >0</th>\n",
              "      <td id=\"T_b7417_row0_col0\" class=\"data row0 col0\" >__label__2</td>\n",
              "      <td id=\"T_b7417_row0_col1\" class=\"data row0 col1\" >Great CD: My lovely Pat has one of the GREAT voices of her generation. I have listened to this CD for YEARS and I still LOVE IT. When I'm in a good mood it makes me feel better. A bad mood just evaporates like sugar in the rain. This CD just oozes LIFE. Vocals are jusat STUUNNING and lyrics just kill. One of life's hidden gems. This is a desert isle CD in my book. Why she never made it big is just beyond me. Everytime I play this, no matter black, white, young, old, male, female EVERYBODY says one thing \"Who was that singing ?\"</td>\n",
              "      <td id=\"T_b7417_row0_col2\" class=\"data row0 col2\" >106</td>\n",
              "    </tr>\n",
              "    <tr>\n",
              "      <th id=\"T_b7417_level0_row1\" class=\"row_heading level0 row1\" >1</th>\n",
              "      <td id=\"T_b7417_row1_col0\" class=\"data row1 col0\" >__label__2</td>\n",
              "      <td id=\"T_b7417_row1_col1\" class=\"data row1 col1\" >One of the best game music soundtracks - for a game I didn't really play: Despite the fact that I have only played a small portion of the game, the music I heard (plus the connection to Chrono Trigger which was great as well) led me to purchase the soundtrack, and it remains one of my favorite albums. There is an incredible mix of fun, epic, and emotional songs. Those sad and beautiful tracks I especially like, as there's not too many of those kinds of songs in my other video game soundtracks. I must admit that one of the songs (Life-A Distant Promise) has brought tears to my eyes on many occasions.My one complaint about this soundtrack is that they use guitar fretting effects in many of the songs, which I find distracting. But even if those weren't included I would still consider the collection worth it.</td>\n",
              "      <td id=\"T_b7417_row1_col2\" class=\"data row1 col2\" >148</td>\n",
              "    </tr>\n",
              "    <tr>\n",
              "      <th id=\"T_b7417_level0_row2\" class=\"row_heading level0 row2\" >2</th>\n",
              "      <td id=\"T_b7417_row2_col0\" class=\"data row2 col0\" >__label__1</td>\n",
              "      <td id=\"T_b7417_row2_col1\" class=\"data row2 col1\" >Batteries died within a year ...: I bought this charger in Jul 2003 and it worked OK for a while. The design is nice and convenient. However, after about a year, the batteries would not hold a charge. Might as well just get alkaline disposables, or look elsewhere for a charger that comes with batteries that have better staying power.</td>\n",
              "      <td id=\"T_b7417_row2_col2\" class=\"data row2 col2\" >60</td>\n",
              "    </tr>\n",
              "    <tr>\n",
              "      <th id=\"T_b7417_level0_row3\" class=\"row_heading level0 row3\" >3</th>\n",
              "      <td id=\"T_b7417_row3_col0\" class=\"data row3 col0\" >__label__2</td>\n",
              "      <td id=\"T_b7417_row3_col1\" class=\"data row3 col1\" >works fine, but Maha Energy is better: Check out Maha Energy's website. Their Powerex MH-C204F charger works in 100 minutes for rapid charge, with option for slower charge (better for batteries). And they have 2200 mAh batteries.</td>\n",
              "      <td id=\"T_b7417_row3_col2\" class=\"data row3 col2\" >37</td>\n",
              "    </tr>\n",
              "    <tr>\n",
              "      <th id=\"T_b7417_level0_row4\" class=\"row_heading level0 row4\" >4</th>\n",
              "      <td id=\"T_b7417_row4_col0\" class=\"data row4 col0\" >__label__2</td>\n",
              "      <td id=\"T_b7417_row4_col1\" class=\"data row4 col1\" >Great for the non-audiophile: Reviewed quite a bit of the combo players and was hesitant due to unfavorable reviews and size of machines. I am weaning off my VHS collection, but don't want to replace them with DVD's. This unit is well built, easy to setup and resolution and special effects (no progressive scan for HDTV owners) suitable for many people looking for a versatile product.Cons- No universal remote.</td>\n",
              "      <td id=\"T_b7417_row4_col2\" class=\"data row4 col2\" >69</td>\n",
              "    </tr>\n",
              "    <tr>\n",
              "      <th id=\"T_b7417_level0_row5\" class=\"row_heading level0 row5\" >5</th>\n",
              "      <td id=\"T_b7417_row5_col0\" class=\"data row5 col0\" >__label__1</td>\n",
              "      <td id=\"T_b7417_row5_col1\" class=\"data row5 col1\" >DVD Player crapped out after one year: I also began having the incorrect disc problems that I've read about on here. The VCR still works, but hte DVD side is useless. I understand that DVD players sometimes just quit on you, but after not even one year? To me that's a sign on bad quality. I'm giving up JVC after this as well. I'm sticking to Sony or giving another brand a shot.</td>\n",
              "      <td id=\"T_b7417_row5_col2\" class=\"data row5 col2\" >73</td>\n",
              "    </tr>\n",
              "    <tr>\n",
              "      <th id=\"T_b7417_level0_row6\" class=\"row_heading level0 row6\" >6</th>\n",
              "      <td id=\"T_b7417_row6_col0\" class=\"data row6 col0\" >__label__1</td>\n",
              "      <td id=\"T_b7417_row6_col1\" class=\"data row6 col1\" >Incorrect Disc: I love the style of this, but after a couple years, the DVD is giving me problems. It doesn't even work anymore and I use my broken PS2 Now. I wouldn't recommend this, I'm just going to upgrade to a recorder now. I wish it would work but I guess i'm giving up on JVC. I really did like this one... before it stopped working. The dvd player gave me problems probably after a year of having it.</td>\n",
              "      <td id=\"T_b7417_row6_col2\" class=\"data row6 col2\" >80</td>\n",
              "    </tr>\n",
              "    <tr>\n",
              "      <th id=\"T_b7417_level0_row7\" class=\"row_heading level0 row7\" >7</th>\n",
              "      <td id=\"T_b7417_row7_col0\" class=\"data row7 col0\" >__label__1</td>\n",
              "      <td id=\"T_b7417_row7_col1\" class=\"data row7 col1\" >DVD menu select problems: I cannot scroll through a DVD menu that is set up vertically. The triangle keys will only select horizontally. So I cannot select anything on most DVD's besides play. No special features, no language select, nothing, just play.</td>\n",
              "      <td id=\"T_b7417_row7_col2\" class=\"data row7 col2\" >42</td>\n",
              "    </tr>\n",
              "    <tr>\n",
              "      <th id=\"T_b7417_level0_row8\" class=\"row_heading level0 row8\" >8</th>\n",
              "      <td id=\"T_b7417_row8_col0\" class=\"data row8 col0\" >__label__2</td>\n",
              "      <td id=\"T_b7417_row8_col1\" class=\"data row8 col1\" >Unique Weird Orientalia from the 1930's: Exotic tales of the Orient from the 1930's. \"Dr Shen Fu\", a Weird Tales magazine reprint, is about the elixir of life that grants immortality at a price. If you're tired of modern authors who all sound alike, this is the antidote for you. Owen's palette is loaded with splashes of Chinese and Japanese colours. Marvelous.</td>\n",
              "      <td id=\"T_b7417_row8_col2\" class=\"data row8 col2\" >62</td>\n",
              "    </tr>\n",
              "    <tr>\n",
              "      <th id=\"T_b7417_level0_row9\" class=\"row_heading level0 row9\" >9</th>\n",
              "      <td id=\"T_b7417_row9_col0\" class=\"data row9 col0\" >__label__1</td>\n",
              "      <td id=\"T_b7417_row9_col1\" class=\"data row9 col1\" >Not an \"ultimate guide\": Firstly,I enjoyed the format and tone of the book (how the author addressed the reader). However, I did not feel that she imparted any insider secrets that the book promised to reveal. If you are just starting to research law school, and do not know all the requirements of admission, then this book may be a tremendous help. If you have done your homework and are looking for an edge when it comes to admissions, I recommend some more topic-specific books. For example, books on how to write your personal statment, books geared specifically towards LSAT preparation (Powerscore books were the most helpful for me), and there are some websites with great advice geared towards aiding the individuals whom you are asking to write letters of recommendation. Yet, for those new to the entire affair, this book can definitely clarify the requirements for you.</td>\n",
              "      <td id=\"T_b7417_row9_col2\" class=\"data row9 col2\" >148</td>\n",
              "    </tr>\n",
              "  </tbody>\n",
              "</table>\n"
            ]
          },
          "metadata": {},
          "execution_count": 3
        }
      ]
    },
    {
      "cell_type": "markdown",
      "source": [
        "Here we can see that:\n",
        "* Average (mean) review length is ~80 words\n",
        "* Shortest review contained 14 words\n",
        "* Longest review reached 204 words"
      ],
      "metadata": {
        "id": "pXxFzi1DV7mG"
      }
    },
    {
      "cell_type": "code",
      "source": [
        "# Describe simple statistics of 'count' variable\n",
        "df_amazon['count'].describe()"
      ],
      "metadata": {
        "colab": {
          "base_uri": "https://localhost:8080/"
        },
        "id": "R02NEkyLQe3M",
        "outputId": "f73b7083-18d4-41b7-9b18-bedd86beee62"
      },
      "execution_count": null,
      "outputs": [
        {
          "output_type": "execute_result",
          "data": {
            "text/plain": [
              "count    10000.000000\n",
              "mean        79.867900\n",
              "std         43.368444\n",
              "min         14.000000\n",
              "25%         43.000000\n",
              "50%         72.000000\n",
              "75%        110.000000\n",
              "max        204.000000\n",
              "Name: count, dtype: float64"
            ]
          },
          "metadata": {},
          "execution_count": 4
        }
      ]
    },
    {
      "cell_type": "markdown",
      "source": [
        "### Counting word frequency\n",
        "\n",
        "Counting the number of times (frequency) each word appeared across all reviews is another valuable piece of information we can extract from the unstructured data. It would be interesting to associate certain words with positive or negative reviews."
      ],
      "metadata": {
        "id": "yaCjDrdEWl-H"
      }
    },
    {
      "cell_type": "code",
      "source": [
        "# Count word frequency\n",
        "print(\"Most commonly used words in reviews:\")\n",
        "word_freq = df_amazon['text'].str.lower().str.split().explode().value_counts()\n",
        "word_freq[:10].to_frame().style"
      ],
      "metadata": {
        "colab": {
          "base_uri": "https://localhost:8080/",
          "height": 380
        },
        "id": "A8vqTpKH_JNu",
        "outputId": "f4efef9f-3356-45fd-ce1d-204de1b76348"
      },
      "execution_count": null,
      "outputs": [
        {
          "output_type": "stream",
          "name": "stdout",
          "text": [
            "Most commonly used words in reviews:\n"
          ]
        },
        {
          "output_type": "execute_result",
          "data": {
            "text/plain": [
              "<pandas.io.formats.style.Styler at 0x7f86e9a7bb20>"
            ],
            "text/html": [
              "<style type=\"text/css\">\n",
              "</style>\n",
              "<table id=\"T_775db_\" class=\"dataframe\">\n",
              "  <thead>\n",
              "    <tr>\n",
              "      <th class=\"blank level0\" >&nbsp;</th>\n",
              "      <th class=\"col_heading level0 col0\" >text</th>\n",
              "    </tr>\n",
              "  </thead>\n",
              "  <tbody>\n",
              "    <tr>\n",
              "      <th id=\"T_775db_level0_row0\" class=\"row_heading level0 row0\" >the</th>\n",
              "      <td id=\"T_775db_row0_col0\" class=\"data row0 col0\" >40420</td>\n",
              "    </tr>\n",
              "    <tr>\n",
              "      <th id=\"T_775db_level0_row1\" class=\"row_heading level0 row1\" >and</th>\n",
              "      <td id=\"T_775db_row1_col0\" class=\"data row1 col0\" >21435</td>\n",
              "    </tr>\n",
              "    <tr>\n",
              "      <th id=\"T_775db_level0_row2\" class=\"row_heading level0 row2\" >a</th>\n",
              "      <td id=\"T_775db_row2_col0\" class=\"data row2 col0\" >20507</td>\n",
              "    </tr>\n",
              "    <tr>\n",
              "      <th id=\"T_775db_level0_row3\" class=\"row_heading level0 row3\" >i</th>\n",
              "      <td id=\"T_775db_row3_col0\" class=\"data row3 col0\" >19590</td>\n",
              "    </tr>\n",
              "    <tr>\n",
              "      <th id=\"T_775db_level0_row4\" class=\"row_heading level0 row4\" >to</th>\n",
              "      <td id=\"T_775db_row4_col0\" class=\"data row4 col0\" >18908</td>\n",
              "    </tr>\n",
              "    <tr>\n",
              "      <th id=\"T_775db_level0_row5\" class=\"row_heading level0 row5\" >of</th>\n",
              "      <td id=\"T_775db_row5_col0\" class=\"data row5 col0\" >16932</td>\n",
              "    </tr>\n",
              "    <tr>\n",
              "      <th id=\"T_775db_level0_row6\" class=\"row_heading level0 row6\" >this</th>\n",
              "      <td id=\"T_775db_row6_col0\" class=\"data row6 col0\" >14726</td>\n",
              "    </tr>\n",
              "    <tr>\n",
              "      <th id=\"T_775db_level0_row7\" class=\"row_heading level0 row7\" >is</th>\n",
              "      <td id=\"T_775db_row7_col0\" class=\"data row7 col0\" >14333</td>\n",
              "    </tr>\n",
              "    <tr>\n",
              "      <th id=\"T_775db_level0_row8\" class=\"row_heading level0 row8\" >it</th>\n",
              "      <td id=\"T_775db_row8_col0\" class=\"data row8 col0\" >12831</td>\n",
              "    </tr>\n",
              "    <tr>\n",
              "      <th id=\"T_775db_level0_row9\" class=\"row_heading level0 row9\" >in</th>\n",
              "      <td id=\"T_775db_row9_col0\" class=\"data row9 col0\" >9568</td>\n",
              "    </tr>\n",
              "  </tbody>\n",
              "</table>\n"
            ]
          },
          "metadata": {},
          "execution_count": 22
        }
      ]
    },
    {
      "cell_type": "markdown",
      "source": [
        "Notice that the most frequent words (\"the\", \"and\", \"a\", etc.) do not give us any useful information. These are called stop words; we should exclude them when counting word frequency.\n",
        "\n",
        "We can use the Natural Language Toolkit (nltk) library to remove stop words. \n",
        "\n",
        "For now, let's deal with English stopwords."
      ],
      "metadata": {
        "id": "D8QoeUUFXWy8"
      }
    },
    {
      "cell_type": "code",
      "source": [
        "# Remove stop words\n",
        "import nltk\n",
        "nltk.download('stopwords')\n",
        "from nltk.corpus import stopwords\n",
        "\n",
        "stop_words = stopwords.words('english')\n",
        "df_amazon['text_stop'] = df_amazon['text'].str.lower()\n",
        "df_amazon['text_stop'] = df_amazon['text_stop'].apply(lambda words: ' '.join(word for word in words.split() if word not in stop_words))\n",
        "df_amazon.head(10).style"
      ],
      "metadata": {
        "colab": {
          "base_uri": "https://localhost:8080/",
          "height": 1000
        },
        "id": "GyWnOwgOXWf8",
        "outputId": "67062321-2db0-49ec-d947-95ef0f81e018"
      },
      "execution_count": null,
      "outputs": [
        {
          "output_type": "stream",
          "name": "stderr",
          "text": [
            "[nltk_data] Downloading package stopwords to /root/nltk_data...\n",
            "[nltk_data]   Unzipping corpora/stopwords.zip.\n"
          ]
        },
        {
          "output_type": "execute_result",
          "data": {
            "text/plain": [
              "<pandas.io.formats.style.Styler at 0x7f86bd3b52b0>"
            ],
            "text/html": [
              "<style type=\"text/css\">\n",
              "</style>\n",
              "<table id=\"T_42c64_\" class=\"dataframe\">\n",
              "  <thead>\n",
              "    <tr>\n",
              "      <th class=\"blank level0\" >&nbsp;</th>\n",
              "      <th class=\"col_heading level0 col0\" >label</th>\n",
              "      <th class=\"col_heading level0 col1\" >text</th>\n",
              "      <th class=\"col_heading level0 col2\" >count</th>\n",
              "      <th class=\"col_heading level0 col3\" >text_stop</th>\n",
              "    </tr>\n",
              "  </thead>\n",
              "  <tbody>\n",
              "    <tr>\n",
              "      <th id=\"T_42c64_level0_row0\" class=\"row_heading level0 row0\" >0</th>\n",
              "      <td id=\"T_42c64_row0_col0\" class=\"data row0 col0\" >__label__2</td>\n",
              "      <td id=\"T_42c64_row0_col1\" class=\"data row0 col1\" >Great CD: My lovely Pat has one of the GREAT voices of her generation. I have listened to this CD for YEARS and I still LOVE IT. When I'm in a good mood it makes me feel better. A bad mood just evaporates like sugar in the rain. This CD just oozes LIFE. Vocals are jusat STUUNNING and lyrics just kill. One of life's hidden gems. This is a desert isle CD in my book. Why she never made it big is just beyond me. Everytime I play this, no matter black, white, young, old, male, female EVERYBODY says one thing \"Who was that singing ?\"</td>\n",
              "      <td id=\"T_42c64_row0_col2\" class=\"data row0 col2\" >106</td>\n",
              "      <td id=\"T_42c64_row0_col3\" class=\"data row0 col3\" >great cd: lovely pat one great voices generation. listened cd years still love it. i'm good mood makes feel better. bad mood evaporates like sugar rain. cd oozes life. vocals jusat stuunning lyrics kill. one life's hidden gems. desert isle cd book. never made big beyond me. everytime play this, matter black, white, young, old, male, female everybody says one thing \"who singing ?\"</td>\n",
              "    </tr>\n",
              "    <tr>\n",
              "      <th id=\"T_42c64_level0_row1\" class=\"row_heading level0 row1\" >1</th>\n",
              "      <td id=\"T_42c64_row1_col0\" class=\"data row1 col0\" >__label__2</td>\n",
              "      <td id=\"T_42c64_row1_col1\" class=\"data row1 col1\" >One of the best game music soundtracks - for a game I didn't really play: Despite the fact that I have only played a small portion of the game, the music I heard (plus the connection to Chrono Trigger which was great as well) led me to purchase the soundtrack, and it remains one of my favorite albums. There is an incredible mix of fun, epic, and emotional songs. Those sad and beautiful tracks I especially like, as there's not too many of those kinds of songs in my other video game soundtracks. I must admit that one of the songs (Life-A Distant Promise) has brought tears to my eyes on many occasions.My one complaint about this soundtrack is that they use guitar fretting effects in many of the songs, which I find distracting. But even if those weren't included I would still consider the collection worth it.</td>\n",
              "      <td id=\"T_42c64_row1_col2\" class=\"data row1 col2\" >148</td>\n",
              "      <td id=\"T_42c64_row1_col3\" class=\"data row1 col3\" >one best game music soundtracks - game really play: despite fact played small portion game, music heard (plus connection chrono trigger great well) led purchase soundtrack, remains one favorite albums. incredible mix fun, epic, emotional songs. sad beautiful tracks especially like, there's many kinds songs video game soundtracks. must admit one songs (life-a distant promise) brought tears eyes many occasions.my one complaint soundtrack use guitar fretting effects many songs, find distracting. even included would still consider collection worth it.</td>\n",
              "    </tr>\n",
              "    <tr>\n",
              "      <th id=\"T_42c64_level0_row2\" class=\"row_heading level0 row2\" >2</th>\n",
              "      <td id=\"T_42c64_row2_col0\" class=\"data row2 col0\" >__label__1</td>\n",
              "      <td id=\"T_42c64_row2_col1\" class=\"data row2 col1\" >Batteries died within a year ...: I bought this charger in Jul 2003 and it worked OK for a while. The design is nice and convenient. However, after about a year, the batteries would not hold a charge. Might as well just get alkaline disposables, or look elsewhere for a charger that comes with batteries that have better staying power.</td>\n",
              "      <td id=\"T_42c64_row2_col2\" class=\"data row2 col2\" >60</td>\n",
              "      <td id=\"T_42c64_row2_col3\" class=\"data row2 col3\" >batteries died within year ...: bought charger jul 2003 worked ok while. design nice convenient. however, year, batteries would hold charge. might well get alkaline disposables, look elsewhere charger comes batteries better staying power.</td>\n",
              "    </tr>\n",
              "    <tr>\n",
              "      <th id=\"T_42c64_level0_row3\" class=\"row_heading level0 row3\" >3</th>\n",
              "      <td id=\"T_42c64_row3_col0\" class=\"data row3 col0\" >__label__2</td>\n",
              "      <td id=\"T_42c64_row3_col1\" class=\"data row3 col1\" >works fine, but Maha Energy is better: Check out Maha Energy's website. Their Powerex MH-C204F charger works in 100 minutes for rapid charge, with option for slower charge (better for batteries). And they have 2200 mAh batteries.</td>\n",
              "      <td id=\"T_42c64_row3_col2\" class=\"data row3 col2\" >37</td>\n",
              "      <td id=\"T_42c64_row3_col3\" class=\"data row3 col3\" >works fine, maha energy better: check maha energy's website. powerex mh-c204f charger works 100 minutes rapid charge, option slower charge (better batteries). 2200 mah batteries.</td>\n",
              "    </tr>\n",
              "    <tr>\n",
              "      <th id=\"T_42c64_level0_row4\" class=\"row_heading level0 row4\" >4</th>\n",
              "      <td id=\"T_42c64_row4_col0\" class=\"data row4 col0\" >__label__2</td>\n",
              "      <td id=\"T_42c64_row4_col1\" class=\"data row4 col1\" >Great for the non-audiophile: Reviewed quite a bit of the combo players and was hesitant due to unfavorable reviews and size of machines. I am weaning off my VHS collection, but don't want to replace them with DVD's. This unit is well built, easy to setup and resolution and special effects (no progressive scan for HDTV owners) suitable for many people looking for a versatile product.Cons- No universal remote.</td>\n",
              "      <td id=\"T_42c64_row4_col2\" class=\"data row4 col2\" >69</td>\n",
              "      <td id=\"T_42c64_row4_col3\" class=\"data row4 col3\" >great non-audiophile: reviewed quite bit combo players hesitant due unfavorable reviews size machines. weaning vhs collection, want replace dvd's. unit well built, easy setup resolution special effects (no progressive scan hdtv owners) suitable many people looking versatile product.cons- universal remote.</td>\n",
              "    </tr>\n",
              "    <tr>\n",
              "      <th id=\"T_42c64_level0_row5\" class=\"row_heading level0 row5\" >5</th>\n",
              "      <td id=\"T_42c64_row5_col0\" class=\"data row5 col0\" >__label__1</td>\n",
              "      <td id=\"T_42c64_row5_col1\" class=\"data row5 col1\" >DVD Player crapped out after one year: I also began having the incorrect disc problems that I've read about on here. The VCR still works, but hte DVD side is useless. I understand that DVD players sometimes just quit on you, but after not even one year? To me that's a sign on bad quality. I'm giving up JVC after this as well. I'm sticking to Sony or giving another brand a shot.</td>\n",
              "      <td id=\"T_42c64_row5_col2\" class=\"data row5 col2\" >73</td>\n",
              "      <td id=\"T_42c64_row5_col3\" class=\"data row5 col3\" >dvd player crapped one year: also began incorrect disc problems i've read here. vcr still works, hte dvd side useless. understand dvd players sometimes quit you, even one year? that's sign bad quality. i'm giving jvc well. i'm sticking sony giving another brand shot.</td>\n",
              "    </tr>\n",
              "    <tr>\n",
              "      <th id=\"T_42c64_level0_row6\" class=\"row_heading level0 row6\" >6</th>\n",
              "      <td id=\"T_42c64_row6_col0\" class=\"data row6 col0\" >__label__1</td>\n",
              "      <td id=\"T_42c64_row6_col1\" class=\"data row6 col1\" >Incorrect Disc: I love the style of this, but after a couple years, the DVD is giving me problems. It doesn't even work anymore and I use my broken PS2 Now. I wouldn't recommend this, I'm just going to upgrade to a recorder now. I wish it would work but I guess i'm giving up on JVC. I really did like this one... before it stopped working. The dvd player gave me problems probably after a year of having it.</td>\n",
              "      <td id=\"T_42c64_row6_col2\" class=\"data row6 col2\" >80</td>\n",
              "      <td id=\"T_42c64_row6_col3\" class=\"data row6 col3\" >incorrect disc: love style this, couple years, dvd giving problems. even work anymore use broken ps2 now. recommend this, i'm going upgrade recorder now. wish would work guess i'm giving jvc. really like one... stopped working. dvd player gave problems probably year it.</td>\n",
              "    </tr>\n",
              "    <tr>\n",
              "      <th id=\"T_42c64_level0_row7\" class=\"row_heading level0 row7\" >7</th>\n",
              "      <td id=\"T_42c64_row7_col0\" class=\"data row7 col0\" >__label__1</td>\n",
              "      <td id=\"T_42c64_row7_col1\" class=\"data row7 col1\" >DVD menu select problems: I cannot scroll through a DVD menu that is set up vertically. The triangle keys will only select horizontally. So I cannot select anything on most DVD's besides play. No special features, no language select, nothing, just play.</td>\n",
              "      <td id=\"T_42c64_row7_col2\" class=\"data row7 col2\" >42</td>\n",
              "      <td id=\"T_42c64_row7_col3\" class=\"data row7 col3\" >dvd menu select problems: cannot scroll dvd menu set vertically. triangle keys select horizontally. cannot select anything dvd's besides play. special features, language select, nothing, play.</td>\n",
              "    </tr>\n",
              "    <tr>\n",
              "      <th id=\"T_42c64_level0_row8\" class=\"row_heading level0 row8\" >8</th>\n",
              "      <td id=\"T_42c64_row8_col0\" class=\"data row8 col0\" >__label__2</td>\n",
              "      <td id=\"T_42c64_row8_col1\" class=\"data row8 col1\" >Unique Weird Orientalia from the 1930's: Exotic tales of the Orient from the 1930's. \"Dr Shen Fu\", a Weird Tales magazine reprint, is about the elixir of life that grants immortality at a price. If you're tired of modern authors who all sound alike, this is the antidote for you. Owen's palette is loaded with splashes of Chinese and Japanese colours. Marvelous.</td>\n",
              "      <td id=\"T_42c64_row8_col2\" class=\"data row8 col2\" >62</td>\n",
              "      <td id=\"T_42c64_row8_col3\" class=\"data row8 col3\" >unique weird orientalia 1930's: exotic tales orient 1930's. \"dr shen fu\", weird tales magazine reprint, elixir life grants immortality price. tired modern authors sound alike, antidote you. owen's palette loaded splashes chinese japanese colours. marvelous.</td>\n",
              "    </tr>\n",
              "    <tr>\n",
              "      <th id=\"T_42c64_level0_row9\" class=\"row_heading level0 row9\" >9</th>\n",
              "      <td id=\"T_42c64_row9_col0\" class=\"data row9 col0\" >__label__1</td>\n",
              "      <td id=\"T_42c64_row9_col1\" class=\"data row9 col1\" >Not an \"ultimate guide\": Firstly,I enjoyed the format and tone of the book (how the author addressed the reader). However, I did not feel that she imparted any insider secrets that the book promised to reveal. If you are just starting to research law school, and do not know all the requirements of admission, then this book may be a tremendous help. If you have done your homework and are looking for an edge when it comes to admissions, I recommend some more topic-specific books. For example, books on how to write your personal statment, books geared specifically towards LSAT preparation (Powerscore books were the most helpful for me), and there are some websites with great advice geared towards aiding the individuals whom you are asking to write letters of recommendation. Yet, for those new to the entire affair, this book can definitely clarify the requirements for you.</td>\n",
              "      <td id=\"T_42c64_row9_col2\" class=\"data row9 col2\" >148</td>\n",
              "      <td id=\"T_42c64_row9_col3\" class=\"data row9 col3\" >\"ultimate guide\": firstly,i enjoyed format tone book (how author addressed reader). however, feel imparted insider secrets book promised reveal. starting research law school, know requirements admission, book may tremendous help. done homework looking edge comes admissions, recommend topic-specific books. example, books write personal statment, books geared specifically towards lsat preparation (powerscore books helpful me), websites great advice geared towards aiding individuals asking write letters recommendation. yet, new entire affair, book definitely clarify requirements you.</td>\n",
              "    </tr>\n",
              "  </tbody>\n",
              "</table>\n"
            ]
          },
          "metadata": {},
          "execution_count": 6
        }
      ]
    },
    {
      "cell_type": "markdown",
      "source": [
        "Then, let's recount the word frequency."
      ],
      "metadata": {
        "id": "1JCcJoUVaVxi"
      }
    },
    {
      "cell_type": "code",
      "source": [
        "# Count word frequency\n",
        "print(\"Most commonly used words in reviews:\")\n",
        "word_freq = df_amazon['text_stop'].str.lower().str.split().explode().value_counts()\n",
        "word_freq[:10].to_frame().style"
      ],
      "metadata": {
        "colab": {
          "base_uri": "https://localhost:8080/",
          "height": 380
        },
        "id": "rgmkbSz3aYlo",
        "outputId": "542c0df9-c4de-4aa8-e162-c21e33a41878"
      },
      "execution_count": null,
      "outputs": [
        {
          "output_type": "stream",
          "name": "stdout",
          "text": [
            "Most commonly used words in reviews:\n"
          ]
        },
        {
          "output_type": "execute_result",
          "data": {
            "text/plain": [
              "<pandas.io.formats.style.Styler at 0x7f86e289a040>"
            ],
            "text/html": [
              "<style type=\"text/css\">\n",
              "</style>\n",
              "<table id=\"T_d5386_\" class=\"dataframe\">\n",
              "  <thead>\n",
              "    <tr>\n",
              "      <th class=\"blank level0\" >&nbsp;</th>\n",
              "      <th class=\"col_heading level0 col0\" >text_stop</th>\n",
              "    </tr>\n",
              "  </thead>\n",
              "  <tbody>\n",
              "    <tr>\n",
              "      <th id=\"T_d5386_level0_row0\" class=\"row_heading level0 row0\" >book</th>\n",
              "      <td id=\"T_d5386_row0_col0\" class=\"data row0 col0\" >4497</td>\n",
              "    </tr>\n",
              "    <tr>\n",
              "      <th id=\"T_d5386_level0_row1\" class=\"row_heading level0 row1\" >one</th>\n",
              "      <td id=\"T_d5386_row1_col0\" class=\"data row1 col0\" >3293</td>\n",
              "    </tr>\n",
              "    <tr>\n",
              "      <th id=\"T_d5386_level0_row2\" class=\"row_heading level0 row2\" >like</th>\n",
              "      <td id=\"T_d5386_row2_col0\" class=\"data row2 col0\" >2829</td>\n",
              "    </tr>\n",
              "    <tr>\n",
              "      <th id=\"T_d5386_level0_row3\" class=\"row_heading level0 row3\" >great</th>\n",
              "      <td id=\"T_d5386_row3_col0\" class=\"data row3 col0\" >2445</td>\n",
              "    </tr>\n",
              "    <tr>\n",
              "      <th id=\"T_d5386_level0_row4\" class=\"row_heading level0 row4\" >good</th>\n",
              "      <td id=\"T_d5386_row4_col0\" class=\"data row4 col0\" >2410</td>\n",
              "    </tr>\n",
              "    <tr>\n",
              "      <th id=\"T_d5386_level0_row5\" class=\"row_heading level0 row5\" >movie</th>\n",
              "      <td id=\"T_d5386_row5_col0\" class=\"data row5 col0\" >2267</td>\n",
              "    </tr>\n",
              "    <tr>\n",
              "      <th id=\"T_d5386_level0_row6\" class=\"row_heading level0 row6\" >would</th>\n",
              "      <td id=\"T_d5386_row6_col0\" class=\"data row6 col0\" >2155</td>\n",
              "    </tr>\n",
              "    <tr>\n",
              "      <th id=\"T_d5386_level0_row7\" class=\"row_heading level0 row7\" >read</th>\n",
              "      <td id=\"T_d5386_row7_col0\" class=\"data row7 col0\" >1942</td>\n",
              "    </tr>\n",
              "    <tr>\n",
              "      <th id=\"T_d5386_level0_row8\" class=\"row_heading level0 row8\" >get</th>\n",
              "      <td id=\"T_d5386_row8_col0\" class=\"data row8 col0\" >1795</td>\n",
              "    </tr>\n",
              "    <tr>\n",
              "      <th id=\"T_d5386_level0_row9\" class=\"row_heading level0 row9\" >really</th>\n",
              "      <td id=\"T_d5386_row9_col0\" class=\"data row9 col0\" >1552</td>\n",
              "    </tr>\n",
              "  </tbody>\n",
              "</table>\n"
            ]
          },
          "metadata": {},
          "execution_count": 7
        }
      ]
    },
    {
      "cell_type": "code",
      "source": [
        "# Count word frequency\n",
        "print(\"Most commonly used words in positive reviews:\")\n",
        "word_freq = df_amazon.loc[df_amazon['label']=='__label__2', 'text_stop'].str.lower().str.split().explode().value_counts() # try changing the label\n",
        "word_freq[:20].to_frame().style"
      ],
      "metadata": {
        "colab": {
          "base_uri": "https://localhost:8080/",
          "height": 694
        },
        "id": "w2WdgIA4NCOb",
        "outputId": "11389ede-61d1-4ab7-e497-9f7d941114c7"
      },
      "execution_count": null,
      "outputs": [
        {
          "output_type": "stream",
          "name": "stdout",
          "text": [
            "Most commonly used words in positive reviews:\n"
          ]
        },
        {
          "output_type": "execute_result",
          "data": {
            "text/plain": [
              "<pandas.io.formats.style.Styler at 0x7f86b2083580>"
            ],
            "text/html": [
              "<style type=\"text/css\">\n",
              "</style>\n",
              "<table id=\"T_9517b_\" class=\"dataframe\">\n",
              "  <thead>\n",
              "    <tr>\n",
              "      <th class=\"blank level0\" >&nbsp;</th>\n",
              "      <th class=\"col_heading level0 col0\" >text_stop</th>\n",
              "    </tr>\n",
              "  </thead>\n",
              "  <tbody>\n",
              "    <tr>\n",
              "      <th id=\"T_9517b_level0_row0\" class=\"row_heading level0 row0\" >book</th>\n",
              "      <td id=\"T_9517b_row0_col0\" class=\"data row0 col0\" >2281</td>\n",
              "    </tr>\n",
              "    <tr>\n",
              "      <th id=\"T_9517b_level0_row1\" class=\"row_heading level0 row1\" >great</th>\n",
              "      <td id=\"T_9517b_row1_col0\" class=\"data row1 col0\" >1899</td>\n",
              "    </tr>\n",
              "    <tr>\n",
              "      <th id=\"T_9517b_level0_row2\" class=\"row_heading level0 row2\" >one</th>\n",
              "      <td id=\"T_9517b_row2_col0\" class=\"data row2 col0\" >1699</td>\n",
              "    </tr>\n",
              "    <tr>\n",
              "      <th id=\"T_9517b_level0_row3\" class=\"row_heading level0 row3\" >good</th>\n",
              "      <td id=\"T_9517b_row3_col0\" class=\"data row3 col0\" >1387</td>\n",
              "    </tr>\n",
              "    <tr>\n",
              "      <th id=\"T_9517b_level0_row4\" class=\"row_heading level0 row4\" >like</th>\n",
              "      <td id=\"T_9517b_row4_col0\" class=\"data row4 col0\" >1335</td>\n",
              "    </tr>\n",
              "    <tr>\n",
              "      <th id=\"T_9517b_level0_row5\" class=\"row_heading level0 row5\" >read</th>\n",
              "      <td id=\"T_9517b_row5_col0\" class=\"data row5 col0\" >1085</td>\n",
              "    </tr>\n",
              "    <tr>\n",
              "      <th id=\"T_9517b_level0_row6\" class=\"row_heading level0 row6\" >movie</th>\n",
              "      <td id=\"T_9517b_row6_col0\" class=\"data row6 col0\" >997</td>\n",
              "    </tr>\n",
              "    <tr>\n",
              "      <th id=\"T_9517b_level0_row7\" class=\"row_heading level0 row7\" >love</th>\n",
              "      <td id=\"T_9517b_row7_col0\" class=\"data row7 col0\" >976</td>\n",
              "    </tr>\n",
              "    <tr>\n",
              "      <th id=\"T_9517b_level0_row8\" class=\"row_heading level0 row8\" >would</th>\n",
              "      <td id=\"T_9517b_row8_col0\" class=\"data row8 col0\" >845</td>\n",
              "    </tr>\n",
              "    <tr>\n",
              "      <th id=\"T_9517b_level0_row9\" class=\"row_heading level0 row9\" >really</th>\n",
              "      <td id=\"T_9517b_row9_col0\" class=\"data row9 col0\" >820</td>\n",
              "    </tr>\n",
              "    <tr>\n",
              "      <th id=\"T_9517b_level0_row10\" class=\"row_heading level0 row10\" >best</th>\n",
              "      <td id=\"T_9517b_row10_col0\" class=\"data row10 col0\" >817</td>\n",
              "    </tr>\n",
              "    <tr>\n",
              "      <th id=\"T_9517b_level0_row11\" class=\"row_heading level0 row11\" >get</th>\n",
              "      <td id=\"T_9517b_row11_col0\" class=\"data row11 col0\" >787</td>\n",
              "    </tr>\n",
              "    <tr>\n",
              "      <th id=\"T_9517b_level0_row12\" class=\"row_heading level0 row12\" >it.</th>\n",
              "      <td id=\"T_9517b_row12_col0\" class=\"data row12 col0\" >679</td>\n",
              "    </tr>\n",
              "    <tr>\n",
              "      <th id=\"T_9517b_level0_row13\" class=\"row_heading level0 row13\" >first</th>\n",
              "      <td id=\"T_9517b_row13_col0\" class=\"data row13 col0\" >660</td>\n",
              "    </tr>\n",
              "    <tr>\n",
              "      <th id=\"T_9517b_level0_row14\" class=\"row_heading level0 row14\" >well</th>\n",
              "      <td id=\"T_9517b_row14_col0\" class=\"data row14 col0\" >608</td>\n",
              "    </tr>\n",
              "    <tr>\n",
              "      <th id=\"T_9517b_level0_row15\" class=\"row_heading level0 row15\" >time</th>\n",
              "      <td id=\"T_9517b_row15_col0\" class=\"data row15 col0\" >587</td>\n",
              "    </tr>\n",
              "    <tr>\n",
              "      <th id=\"T_9517b_level0_row16\" class=\"row_heading level0 row16\" >much</th>\n",
              "      <td id=\"T_9517b_row16_col0\" class=\"data row16 col0\" >555</td>\n",
              "    </tr>\n",
              "    <tr>\n",
              "      <th id=\"T_9517b_level0_row17\" class=\"row_heading level0 row17\" >even</th>\n",
              "      <td id=\"T_9517b_row17_col0\" class=\"data row17 col0\" >546</td>\n",
              "    </tr>\n",
              "    <tr>\n",
              "      <th id=\"T_9517b_level0_row18\" class=\"row_heading level0 row18\" >many</th>\n",
              "      <td id=\"T_9517b_row18_col0\" class=\"data row18 col0\" >546</td>\n",
              "    </tr>\n",
              "    <tr>\n",
              "      <th id=\"T_9517b_level0_row19\" class=\"row_heading level0 row19\" >story</th>\n",
              "      <td id=\"T_9517b_row19_col0\" class=\"data row19 col0\" >538</td>\n",
              "    </tr>\n",
              "  </tbody>\n",
              "</table>\n"
            ]
          },
          "metadata": {},
          "execution_count": 31
        }
      ]
    },
    {
      "cell_type": "markdown",
      "source": [
        "### Other preprocessing techniques\n",
        "\n",
        "Other preprocessing steps we can perform are:\n",
        "* Removing duplicate data\n",
        "* Removing punctuation and symbols\n",
        "* Removing URLs\n",
        "* Tokenization\n",
        "* Stemming\n",
        "* Lemmatization\n",
        "\n",
        "You may read this [blog](https://www.analyticsvidhya.com/blog/2021/06/text-preprocessing-in-nlp-with-python-codes/) for more info."
      ],
      "metadata": {
        "id": "M2mTE8ETcdU1"
      }
    },
    {
      "cell_type": "markdown",
      "source": [
        "## B. Structured Data\n",
        "\n",
        "Structured data is easier to work with since it's already organized. There are four levels of structured data: nominal and ordinal for qualitative data, interval and ratio for quantitative data.\n",
        "\n",
        "We will use the Titanic data set as an example of structured data. This data set contains data from various levels:\n",
        "* Nominal: `PassengerId`, `Survived`, `Name`, `Sex`, `Ticket`, `Cabin`, `Embarked`\n",
        "* Ordinal: `Pclass`\n",
        "* Ratio: `Age`, `SibSp`, `Parch`, `Fare`\n",
        "\n",
        "Since there are no interval-level data, we will create a random variable, `BodyTemp` (Celsius).\n",
        "\n",
        "In structured data, rows represent samples, and columns represent variables/descriptors/features (we'll use the term features when we discuss machine learning)."
      ],
      "metadata": {
        "id": "1rC3GecNiZiL"
      }
    },
    {
      "cell_type": "code",
      "source": [
        "# Titanic Data\n",
        "import numpy as np\n",
        "\n",
        "# Create a random variable:\n",
        "np.random.seed(132)\n",
        "df_titanic['BodyTemp'] = np.random.uniform(35.0,38.0,len(df_titanic))\n",
        "\n",
        "print(\"Titanic Data:\")\n",
        "df_titanic.head(10).style"
      ],
      "metadata": {
        "colab": {
          "base_uri": "https://localhost:8080/",
          "height": 380
        },
        "id": "qRqOMCMiiX7P",
        "outputId": "a127ab40-5b1b-449a-ba4e-8ad2f8c6b482"
      },
      "execution_count": null,
      "outputs": [
        {
          "output_type": "stream",
          "name": "stdout",
          "text": [
            "Titanic Data:\n"
          ]
        },
        {
          "output_type": "execute_result",
          "data": {
            "text/plain": [
              "<pandas.io.formats.style.Styler at 0x7f8705b480a0>"
            ],
            "text/html": [
              "<style type=\"text/css\">\n",
              "</style>\n",
              "<table id=\"T_57191_\" class=\"dataframe\">\n",
              "  <thead>\n",
              "    <tr>\n",
              "      <th class=\"blank level0\" >&nbsp;</th>\n",
              "      <th class=\"col_heading level0 col0\" >PassengerId</th>\n",
              "      <th class=\"col_heading level0 col1\" >Survived</th>\n",
              "      <th class=\"col_heading level0 col2\" >Pclass</th>\n",
              "      <th class=\"col_heading level0 col3\" >Name</th>\n",
              "      <th class=\"col_heading level0 col4\" >Sex</th>\n",
              "      <th class=\"col_heading level0 col5\" >Age</th>\n",
              "      <th class=\"col_heading level0 col6\" >SibSp</th>\n",
              "      <th class=\"col_heading level0 col7\" >Parch</th>\n",
              "      <th class=\"col_heading level0 col8\" >Ticket</th>\n",
              "      <th class=\"col_heading level0 col9\" >Fare</th>\n",
              "      <th class=\"col_heading level0 col10\" >Cabin</th>\n",
              "      <th class=\"col_heading level0 col11\" >Embarked</th>\n",
              "      <th class=\"col_heading level0 col12\" >BodyTemp</th>\n",
              "    </tr>\n",
              "  </thead>\n",
              "  <tbody>\n",
              "    <tr>\n",
              "      <th id=\"T_57191_level0_row0\" class=\"row_heading level0 row0\" >0</th>\n",
              "      <td id=\"T_57191_row0_col0\" class=\"data row0 col0\" >1</td>\n",
              "      <td id=\"T_57191_row0_col1\" class=\"data row0 col1\" >0</td>\n",
              "      <td id=\"T_57191_row0_col2\" class=\"data row0 col2\" >3</td>\n",
              "      <td id=\"T_57191_row0_col3\" class=\"data row0 col3\" >Braund, Mr. Owen Harris</td>\n",
              "      <td id=\"T_57191_row0_col4\" class=\"data row0 col4\" >male</td>\n",
              "      <td id=\"T_57191_row0_col5\" class=\"data row0 col5\" >22.000000</td>\n",
              "      <td id=\"T_57191_row0_col6\" class=\"data row0 col6\" >1</td>\n",
              "      <td id=\"T_57191_row0_col7\" class=\"data row0 col7\" >0</td>\n",
              "      <td id=\"T_57191_row0_col8\" class=\"data row0 col8\" >A/5 21171</td>\n",
              "      <td id=\"T_57191_row0_col9\" class=\"data row0 col9\" >7.250000</td>\n",
              "      <td id=\"T_57191_row0_col10\" class=\"data row0 col10\" >nan</td>\n",
              "      <td id=\"T_57191_row0_col11\" class=\"data row0 col11\" >S</td>\n",
              "      <td id=\"T_57191_row0_col12\" class=\"data row0 col12\" >37.342712</td>\n",
              "    </tr>\n",
              "    <tr>\n",
              "      <th id=\"T_57191_level0_row1\" class=\"row_heading level0 row1\" >1</th>\n",
              "      <td id=\"T_57191_row1_col0\" class=\"data row1 col0\" >2</td>\n",
              "      <td id=\"T_57191_row1_col1\" class=\"data row1 col1\" >1</td>\n",
              "      <td id=\"T_57191_row1_col2\" class=\"data row1 col2\" >1</td>\n",
              "      <td id=\"T_57191_row1_col3\" class=\"data row1 col3\" >Cumings, Mrs. John Bradley (Florence Briggs Thayer)</td>\n",
              "      <td id=\"T_57191_row1_col4\" class=\"data row1 col4\" >female</td>\n",
              "      <td id=\"T_57191_row1_col5\" class=\"data row1 col5\" >38.000000</td>\n",
              "      <td id=\"T_57191_row1_col6\" class=\"data row1 col6\" >1</td>\n",
              "      <td id=\"T_57191_row1_col7\" class=\"data row1 col7\" >0</td>\n",
              "      <td id=\"T_57191_row1_col8\" class=\"data row1 col8\" >PC 17599</td>\n",
              "      <td id=\"T_57191_row1_col9\" class=\"data row1 col9\" >71.283300</td>\n",
              "      <td id=\"T_57191_row1_col10\" class=\"data row1 col10\" >C85</td>\n",
              "      <td id=\"T_57191_row1_col11\" class=\"data row1 col11\" >C</td>\n",
              "      <td id=\"T_57191_row1_col12\" class=\"data row1 col12\" >36.143434</td>\n",
              "    </tr>\n",
              "    <tr>\n",
              "      <th id=\"T_57191_level0_row2\" class=\"row_heading level0 row2\" >2</th>\n",
              "      <td id=\"T_57191_row2_col0\" class=\"data row2 col0\" >3</td>\n",
              "      <td id=\"T_57191_row2_col1\" class=\"data row2 col1\" >1</td>\n",
              "      <td id=\"T_57191_row2_col2\" class=\"data row2 col2\" >3</td>\n",
              "      <td id=\"T_57191_row2_col3\" class=\"data row2 col3\" >Heikkinen, Miss. Laina</td>\n",
              "      <td id=\"T_57191_row2_col4\" class=\"data row2 col4\" >female</td>\n",
              "      <td id=\"T_57191_row2_col5\" class=\"data row2 col5\" >26.000000</td>\n",
              "      <td id=\"T_57191_row2_col6\" class=\"data row2 col6\" >0</td>\n",
              "      <td id=\"T_57191_row2_col7\" class=\"data row2 col7\" >0</td>\n",
              "      <td id=\"T_57191_row2_col8\" class=\"data row2 col8\" >STON/O2. 3101282</td>\n",
              "      <td id=\"T_57191_row2_col9\" class=\"data row2 col9\" >7.925000</td>\n",
              "      <td id=\"T_57191_row2_col10\" class=\"data row2 col10\" >nan</td>\n",
              "      <td id=\"T_57191_row2_col11\" class=\"data row2 col11\" >S</td>\n",
              "      <td id=\"T_57191_row2_col12\" class=\"data row2 col12\" >37.485913</td>\n",
              "    </tr>\n",
              "    <tr>\n",
              "      <th id=\"T_57191_level0_row3\" class=\"row_heading level0 row3\" >3</th>\n",
              "      <td id=\"T_57191_row3_col0\" class=\"data row3 col0\" >4</td>\n",
              "      <td id=\"T_57191_row3_col1\" class=\"data row3 col1\" >1</td>\n",
              "      <td id=\"T_57191_row3_col2\" class=\"data row3 col2\" >1</td>\n",
              "      <td id=\"T_57191_row3_col3\" class=\"data row3 col3\" >Futrelle, Mrs. Jacques Heath (Lily May Peel)</td>\n",
              "      <td id=\"T_57191_row3_col4\" class=\"data row3 col4\" >female</td>\n",
              "      <td id=\"T_57191_row3_col5\" class=\"data row3 col5\" >35.000000</td>\n",
              "      <td id=\"T_57191_row3_col6\" class=\"data row3 col6\" >1</td>\n",
              "      <td id=\"T_57191_row3_col7\" class=\"data row3 col7\" >0</td>\n",
              "      <td id=\"T_57191_row3_col8\" class=\"data row3 col8\" >113803</td>\n",
              "      <td id=\"T_57191_row3_col9\" class=\"data row3 col9\" >53.100000</td>\n",
              "      <td id=\"T_57191_row3_col10\" class=\"data row3 col10\" >C123</td>\n",
              "      <td id=\"T_57191_row3_col11\" class=\"data row3 col11\" >S</td>\n",
              "      <td id=\"T_57191_row3_col12\" class=\"data row3 col12\" >37.345048</td>\n",
              "    </tr>\n",
              "    <tr>\n",
              "      <th id=\"T_57191_level0_row4\" class=\"row_heading level0 row4\" >4</th>\n",
              "      <td id=\"T_57191_row4_col0\" class=\"data row4 col0\" >5</td>\n",
              "      <td id=\"T_57191_row4_col1\" class=\"data row4 col1\" >0</td>\n",
              "      <td id=\"T_57191_row4_col2\" class=\"data row4 col2\" >3</td>\n",
              "      <td id=\"T_57191_row4_col3\" class=\"data row4 col3\" >Allen, Mr. William Henry</td>\n",
              "      <td id=\"T_57191_row4_col4\" class=\"data row4 col4\" >male</td>\n",
              "      <td id=\"T_57191_row4_col5\" class=\"data row4 col5\" >35.000000</td>\n",
              "      <td id=\"T_57191_row4_col6\" class=\"data row4 col6\" >0</td>\n",
              "      <td id=\"T_57191_row4_col7\" class=\"data row4 col7\" >0</td>\n",
              "      <td id=\"T_57191_row4_col8\" class=\"data row4 col8\" >373450</td>\n",
              "      <td id=\"T_57191_row4_col9\" class=\"data row4 col9\" >8.050000</td>\n",
              "      <td id=\"T_57191_row4_col10\" class=\"data row4 col10\" >nan</td>\n",
              "      <td id=\"T_57191_row4_col11\" class=\"data row4 col11\" >S</td>\n",
              "      <td id=\"T_57191_row4_col12\" class=\"data row4 col12\" >37.404791</td>\n",
              "    </tr>\n",
              "    <tr>\n",
              "      <th id=\"T_57191_level0_row5\" class=\"row_heading level0 row5\" >5</th>\n",
              "      <td id=\"T_57191_row5_col0\" class=\"data row5 col0\" >6</td>\n",
              "      <td id=\"T_57191_row5_col1\" class=\"data row5 col1\" >0</td>\n",
              "      <td id=\"T_57191_row5_col2\" class=\"data row5 col2\" >3</td>\n",
              "      <td id=\"T_57191_row5_col3\" class=\"data row5 col3\" >Moran, Mr. James</td>\n",
              "      <td id=\"T_57191_row5_col4\" class=\"data row5 col4\" >male</td>\n",
              "      <td id=\"T_57191_row5_col5\" class=\"data row5 col5\" >nan</td>\n",
              "      <td id=\"T_57191_row5_col6\" class=\"data row5 col6\" >0</td>\n",
              "      <td id=\"T_57191_row5_col7\" class=\"data row5 col7\" >0</td>\n",
              "      <td id=\"T_57191_row5_col8\" class=\"data row5 col8\" >330877</td>\n",
              "      <td id=\"T_57191_row5_col9\" class=\"data row5 col9\" >8.458300</td>\n",
              "      <td id=\"T_57191_row5_col10\" class=\"data row5 col10\" >nan</td>\n",
              "      <td id=\"T_57191_row5_col11\" class=\"data row5 col11\" >Q</td>\n",
              "      <td id=\"T_57191_row5_col12\" class=\"data row5 col12\" >36.070705</td>\n",
              "    </tr>\n",
              "    <tr>\n",
              "      <th id=\"T_57191_level0_row6\" class=\"row_heading level0 row6\" >6</th>\n",
              "      <td id=\"T_57191_row6_col0\" class=\"data row6 col0\" >7</td>\n",
              "      <td id=\"T_57191_row6_col1\" class=\"data row6 col1\" >0</td>\n",
              "      <td id=\"T_57191_row6_col2\" class=\"data row6 col2\" >1</td>\n",
              "      <td id=\"T_57191_row6_col3\" class=\"data row6 col3\" >McCarthy, Mr. Timothy J</td>\n",
              "      <td id=\"T_57191_row6_col4\" class=\"data row6 col4\" >male</td>\n",
              "      <td id=\"T_57191_row6_col5\" class=\"data row6 col5\" >54.000000</td>\n",
              "      <td id=\"T_57191_row6_col6\" class=\"data row6 col6\" >0</td>\n",
              "      <td id=\"T_57191_row6_col7\" class=\"data row6 col7\" >0</td>\n",
              "      <td id=\"T_57191_row6_col8\" class=\"data row6 col8\" >17463</td>\n",
              "      <td id=\"T_57191_row6_col9\" class=\"data row6 col9\" >51.862500</td>\n",
              "      <td id=\"T_57191_row6_col10\" class=\"data row6 col10\" >E46</td>\n",
              "      <td id=\"T_57191_row6_col11\" class=\"data row6 col11\" >S</td>\n",
              "      <td id=\"T_57191_row6_col12\" class=\"data row6 col12\" >37.886366</td>\n",
              "    </tr>\n",
              "    <tr>\n",
              "      <th id=\"T_57191_level0_row7\" class=\"row_heading level0 row7\" >7</th>\n",
              "      <td id=\"T_57191_row7_col0\" class=\"data row7 col0\" >8</td>\n",
              "      <td id=\"T_57191_row7_col1\" class=\"data row7 col1\" >0</td>\n",
              "      <td id=\"T_57191_row7_col2\" class=\"data row7 col2\" >3</td>\n",
              "      <td id=\"T_57191_row7_col3\" class=\"data row7 col3\" >Palsson, Master. Gosta Leonard</td>\n",
              "      <td id=\"T_57191_row7_col4\" class=\"data row7 col4\" >male</td>\n",
              "      <td id=\"T_57191_row7_col5\" class=\"data row7 col5\" >2.000000</td>\n",
              "      <td id=\"T_57191_row7_col6\" class=\"data row7 col6\" >3</td>\n",
              "      <td id=\"T_57191_row7_col7\" class=\"data row7 col7\" >1</td>\n",
              "      <td id=\"T_57191_row7_col8\" class=\"data row7 col8\" >349909</td>\n",
              "      <td id=\"T_57191_row7_col9\" class=\"data row7 col9\" >21.075000</td>\n",
              "      <td id=\"T_57191_row7_col10\" class=\"data row7 col10\" >nan</td>\n",
              "      <td id=\"T_57191_row7_col11\" class=\"data row7 col11\" >S</td>\n",
              "      <td id=\"T_57191_row7_col12\" class=\"data row7 col12\" >36.068720</td>\n",
              "    </tr>\n",
              "    <tr>\n",
              "      <th id=\"T_57191_level0_row8\" class=\"row_heading level0 row8\" >8</th>\n",
              "      <td id=\"T_57191_row8_col0\" class=\"data row8 col0\" >9</td>\n",
              "      <td id=\"T_57191_row8_col1\" class=\"data row8 col1\" >1</td>\n",
              "      <td id=\"T_57191_row8_col2\" class=\"data row8 col2\" >3</td>\n",
              "      <td id=\"T_57191_row8_col3\" class=\"data row8 col3\" >Johnson, Mrs. Oscar W (Elisabeth Vilhelmina Berg)</td>\n",
              "      <td id=\"T_57191_row8_col4\" class=\"data row8 col4\" >female</td>\n",
              "      <td id=\"T_57191_row8_col5\" class=\"data row8 col5\" >27.000000</td>\n",
              "      <td id=\"T_57191_row8_col6\" class=\"data row8 col6\" >0</td>\n",
              "      <td id=\"T_57191_row8_col7\" class=\"data row8 col7\" >2</td>\n",
              "      <td id=\"T_57191_row8_col8\" class=\"data row8 col8\" >347742</td>\n",
              "      <td id=\"T_57191_row8_col9\" class=\"data row8 col9\" >11.133300</td>\n",
              "      <td id=\"T_57191_row8_col10\" class=\"data row8 col10\" >nan</td>\n",
              "      <td id=\"T_57191_row8_col11\" class=\"data row8 col11\" >S</td>\n",
              "      <td id=\"T_57191_row8_col12\" class=\"data row8 col12\" >37.455741</td>\n",
              "    </tr>\n",
              "    <tr>\n",
              "      <th id=\"T_57191_level0_row9\" class=\"row_heading level0 row9\" >9</th>\n",
              "      <td id=\"T_57191_row9_col0\" class=\"data row9 col0\" >10</td>\n",
              "      <td id=\"T_57191_row9_col1\" class=\"data row9 col1\" >1</td>\n",
              "      <td id=\"T_57191_row9_col2\" class=\"data row9 col2\" >2</td>\n",
              "      <td id=\"T_57191_row9_col3\" class=\"data row9 col3\" >Nasser, Mrs. Nicholas (Adele Achem)</td>\n",
              "      <td id=\"T_57191_row9_col4\" class=\"data row9 col4\" >female</td>\n",
              "      <td id=\"T_57191_row9_col5\" class=\"data row9 col5\" >14.000000</td>\n",
              "      <td id=\"T_57191_row9_col6\" class=\"data row9 col6\" >1</td>\n",
              "      <td id=\"T_57191_row9_col7\" class=\"data row9 col7\" >0</td>\n",
              "      <td id=\"T_57191_row9_col8\" class=\"data row9 col8\" >237736</td>\n",
              "      <td id=\"T_57191_row9_col9\" class=\"data row9 col9\" >30.070800</td>\n",
              "      <td id=\"T_57191_row9_col10\" class=\"data row9 col10\" >nan</td>\n",
              "      <td id=\"T_57191_row9_col11\" class=\"data row9 col11\" >C</td>\n",
              "      <td id=\"T_57191_row9_col12\" class=\"data row9 col12\" >37.715564</td>\n",
              "    </tr>\n",
              "  </tbody>\n",
              "</table>\n"
            ]
          },
          "metadata": {},
          "execution_count": 8
        }
      ]
    },
    {
      "cell_type": "markdown",
      "source": [
        "You can learn more about dataframe rows, columns, indexing, and selection [here](https://pandas.pydata.org/docs/user_guide/indexing.html)."
      ],
      "metadata": {
        "id": "KEcL8eDgKH_p"
      }
    },
    {
      "cell_type": "code",
      "source": [
        "# Select row (passenger samples)\n",
        "print(\"Passenger samples:\")\n",
        "df_titanic.loc[10:15]"
      ],
      "metadata": {
        "colab": {
          "base_uri": "https://localhost:8080/",
          "height": 255
        },
        "id": "sw6VwG7AKMoV",
        "outputId": "d9652e72-f0d1-4e6a-c3d2-fdb94e08bdd5"
      },
      "execution_count": null,
      "outputs": [
        {
          "output_type": "stream",
          "name": "stdout",
          "text": [
            "Passenger samples:\n"
          ]
        },
        {
          "output_type": "execute_result",
          "data": {
            "text/plain": [
              "    PassengerId  Survived  Pclass                                  Name  \\\n",
              "10           11         1       3       Sandstrom, Miss. Marguerite Rut   \n",
              "11           12         1       1              Bonnell, Miss. Elizabeth   \n",
              "12           13         0       3        Saundercock, Mr. William Henry   \n",
              "13           14         0       3           Andersson, Mr. Anders Johan   \n",
              "14           15         0       3  Vestrom, Miss. Hulda Amanda Adolfina   \n",
              "15           16         1       2      Hewlett, Mrs. (Mary D Kingcome)    \n",
              "\n",
              "       Sex   Age  SibSp  Parch     Ticket     Fare Cabin Embarked   BodyTemp  \n",
              "10  female   4.0      1      1    PP 9549  16.7000    G6        S  35.128290  \n",
              "11  female  58.0      0      0     113783  26.5500  C103        S  35.048569  \n",
              "12    male  20.0      0      0  A/5. 2151   8.0500   NaN        S  36.668138  \n",
              "13    male  39.0      1      5     347082  31.2750   NaN        S  35.241584  \n",
              "14  female  14.0      0      0     350406   7.8542   NaN        S  37.892771  \n",
              "15  female  55.0      0      0     248706  16.0000   NaN        S  36.225546  "
            ],
            "text/html": [
              "\n",
              "  <div id=\"df-2c899a89-5578-4841-a175-cfb8dd647797\">\n",
              "    <div class=\"colab-df-container\">\n",
              "      <div>\n",
              "<style scoped>\n",
              "    .dataframe tbody tr th:only-of-type {\n",
              "        vertical-align: middle;\n",
              "    }\n",
              "\n",
              "    .dataframe tbody tr th {\n",
              "        vertical-align: top;\n",
              "    }\n",
              "\n",
              "    .dataframe thead th {\n",
              "        text-align: right;\n",
              "    }\n",
              "</style>\n",
              "<table border=\"1\" class=\"dataframe\">\n",
              "  <thead>\n",
              "    <tr style=\"text-align: right;\">\n",
              "      <th></th>\n",
              "      <th>PassengerId</th>\n",
              "      <th>Survived</th>\n",
              "      <th>Pclass</th>\n",
              "      <th>Name</th>\n",
              "      <th>Sex</th>\n",
              "      <th>Age</th>\n",
              "      <th>SibSp</th>\n",
              "      <th>Parch</th>\n",
              "      <th>Ticket</th>\n",
              "      <th>Fare</th>\n",
              "      <th>Cabin</th>\n",
              "      <th>Embarked</th>\n",
              "      <th>BodyTemp</th>\n",
              "    </tr>\n",
              "  </thead>\n",
              "  <tbody>\n",
              "    <tr>\n",
              "      <th>10</th>\n",
              "      <td>11</td>\n",
              "      <td>1</td>\n",
              "      <td>3</td>\n",
              "      <td>Sandstrom, Miss. Marguerite Rut</td>\n",
              "      <td>female</td>\n",
              "      <td>4.0</td>\n",
              "      <td>1</td>\n",
              "      <td>1</td>\n",
              "      <td>PP 9549</td>\n",
              "      <td>16.7000</td>\n",
              "      <td>G6</td>\n",
              "      <td>S</td>\n",
              "      <td>35.128290</td>\n",
              "    </tr>\n",
              "    <tr>\n",
              "      <th>11</th>\n",
              "      <td>12</td>\n",
              "      <td>1</td>\n",
              "      <td>1</td>\n",
              "      <td>Bonnell, Miss. Elizabeth</td>\n",
              "      <td>female</td>\n",
              "      <td>58.0</td>\n",
              "      <td>0</td>\n",
              "      <td>0</td>\n",
              "      <td>113783</td>\n",
              "      <td>26.5500</td>\n",
              "      <td>C103</td>\n",
              "      <td>S</td>\n",
              "      <td>35.048569</td>\n",
              "    </tr>\n",
              "    <tr>\n",
              "      <th>12</th>\n",
              "      <td>13</td>\n",
              "      <td>0</td>\n",
              "      <td>3</td>\n",
              "      <td>Saundercock, Mr. William Henry</td>\n",
              "      <td>male</td>\n",
              "      <td>20.0</td>\n",
              "      <td>0</td>\n",
              "      <td>0</td>\n",
              "      <td>A/5. 2151</td>\n",
              "      <td>8.0500</td>\n",
              "      <td>NaN</td>\n",
              "      <td>S</td>\n",
              "      <td>36.668138</td>\n",
              "    </tr>\n",
              "    <tr>\n",
              "      <th>13</th>\n",
              "      <td>14</td>\n",
              "      <td>0</td>\n",
              "      <td>3</td>\n",
              "      <td>Andersson, Mr. Anders Johan</td>\n",
              "      <td>male</td>\n",
              "      <td>39.0</td>\n",
              "      <td>1</td>\n",
              "      <td>5</td>\n",
              "      <td>347082</td>\n",
              "      <td>31.2750</td>\n",
              "      <td>NaN</td>\n",
              "      <td>S</td>\n",
              "      <td>35.241584</td>\n",
              "    </tr>\n",
              "    <tr>\n",
              "      <th>14</th>\n",
              "      <td>15</td>\n",
              "      <td>0</td>\n",
              "      <td>3</td>\n",
              "      <td>Vestrom, Miss. Hulda Amanda Adolfina</td>\n",
              "      <td>female</td>\n",
              "      <td>14.0</td>\n",
              "      <td>0</td>\n",
              "      <td>0</td>\n",
              "      <td>350406</td>\n",
              "      <td>7.8542</td>\n",
              "      <td>NaN</td>\n",
              "      <td>S</td>\n",
              "      <td>37.892771</td>\n",
              "    </tr>\n",
              "    <tr>\n",
              "      <th>15</th>\n",
              "      <td>16</td>\n",
              "      <td>1</td>\n",
              "      <td>2</td>\n",
              "      <td>Hewlett, Mrs. (Mary D Kingcome)</td>\n",
              "      <td>female</td>\n",
              "      <td>55.0</td>\n",
              "      <td>0</td>\n",
              "      <td>0</td>\n",
              "      <td>248706</td>\n",
              "      <td>16.0000</td>\n",
              "      <td>NaN</td>\n",
              "      <td>S</td>\n",
              "      <td>36.225546</td>\n",
              "    </tr>\n",
              "  </tbody>\n",
              "</table>\n",
              "</div>\n",
              "      <button class=\"colab-df-convert\" onclick=\"convertToInteractive('df-2c899a89-5578-4841-a175-cfb8dd647797')\"\n",
              "              title=\"Convert this dataframe to an interactive table.\"\n",
              "              style=\"display:none;\">\n",
              "        \n",
              "  <svg xmlns=\"http://www.w3.org/2000/svg\" height=\"24px\"viewBox=\"0 0 24 24\"\n",
              "       width=\"24px\">\n",
              "    <path d=\"M0 0h24v24H0V0z\" fill=\"none\"/>\n",
              "    <path d=\"M18.56 5.44l.94 2.06.94-2.06 2.06-.94-2.06-.94-.94-2.06-.94 2.06-2.06.94zm-11 1L8.5 8.5l.94-2.06 2.06-.94-2.06-.94L8.5 2.5l-.94 2.06-2.06.94zm10 10l.94 2.06.94-2.06 2.06-.94-2.06-.94-.94-2.06-.94 2.06-2.06.94z\"/><path d=\"M17.41 7.96l-1.37-1.37c-.4-.4-.92-.59-1.43-.59-.52 0-1.04.2-1.43.59L10.3 9.45l-7.72 7.72c-.78.78-.78 2.05 0 2.83L4 21.41c.39.39.9.59 1.41.59.51 0 1.02-.2 1.41-.59l7.78-7.78 2.81-2.81c.8-.78.8-2.07 0-2.86zM5.41 20L4 18.59l7.72-7.72 1.47 1.35L5.41 20z\"/>\n",
              "  </svg>\n",
              "      </button>\n",
              "      \n",
              "  <style>\n",
              "    .colab-df-container {\n",
              "      display:flex;\n",
              "      flex-wrap:wrap;\n",
              "      gap: 12px;\n",
              "    }\n",
              "\n",
              "    .colab-df-convert {\n",
              "      background-color: #E8F0FE;\n",
              "      border: none;\n",
              "      border-radius: 50%;\n",
              "      cursor: pointer;\n",
              "      display: none;\n",
              "      fill: #1967D2;\n",
              "      height: 32px;\n",
              "      padding: 0 0 0 0;\n",
              "      width: 32px;\n",
              "    }\n",
              "\n",
              "    .colab-df-convert:hover {\n",
              "      background-color: #E2EBFA;\n",
              "      box-shadow: 0px 1px 2px rgba(60, 64, 67, 0.3), 0px 1px 3px 1px rgba(60, 64, 67, 0.15);\n",
              "      fill: #174EA6;\n",
              "    }\n",
              "\n",
              "    [theme=dark] .colab-df-convert {\n",
              "      background-color: #3B4455;\n",
              "      fill: #D2E3FC;\n",
              "    }\n",
              "\n",
              "    [theme=dark] .colab-df-convert:hover {\n",
              "      background-color: #434B5C;\n",
              "      box-shadow: 0px 1px 3px 1px rgba(0, 0, 0, 0.15);\n",
              "      filter: drop-shadow(0px 1px 2px rgba(0, 0, 0, 0.3));\n",
              "      fill: #FFFFFF;\n",
              "    }\n",
              "  </style>\n",
              "\n",
              "      <script>\n",
              "        const buttonEl =\n",
              "          document.querySelector('#df-2c899a89-5578-4841-a175-cfb8dd647797 button.colab-df-convert');\n",
              "        buttonEl.style.display =\n",
              "          google.colab.kernel.accessAllowed ? 'block' : 'none';\n",
              "\n",
              "        async function convertToInteractive(key) {\n",
              "          const element = document.querySelector('#df-2c899a89-5578-4841-a175-cfb8dd647797');\n",
              "          const dataTable =\n",
              "            await google.colab.kernel.invokeFunction('convertToInteractive',\n",
              "                                                     [key], {});\n",
              "          if (!dataTable) return;\n",
              "\n",
              "          const docLinkHtml = 'Like what you see? Visit the ' +\n",
              "            '<a target=\"_blank\" href=https://colab.research.google.com/notebooks/data_table.ipynb>data table notebook</a>'\n",
              "            + ' to learn more about interactive tables.';\n",
              "          element.innerHTML = '';\n",
              "          dataTable['output_type'] = 'display_data';\n",
              "          await google.colab.output.renderOutput(dataTable, element);\n",
              "          const docLink = document.createElement('div');\n",
              "          docLink.innerHTML = docLinkHtml;\n",
              "          element.appendChild(docLink);\n",
              "        }\n",
              "      </script>\n",
              "    </div>\n",
              "  </div>\n",
              "  "
            ]
          },
          "metadata": {},
          "execution_count": 9
        }
      ]
    },
    {
      "cell_type": "code",
      "source": [
        "# Select column (variables)\n",
        "print(\"Sex and age of passenger samples:\")\n",
        "df_titanic.loc[10:15, ['Sex', 'Age']]"
      ],
      "metadata": {
        "colab": {
          "base_uri": "https://localhost:8080/",
          "height": 255
        },
        "id": "w3pkfzasKrob",
        "outputId": "c26b67b4-37fe-44e9-caaa-54784e838efe"
      },
      "execution_count": null,
      "outputs": [
        {
          "output_type": "stream",
          "name": "stdout",
          "text": [
            "Sex and age of passenger samples:\n"
          ]
        },
        {
          "output_type": "execute_result",
          "data": {
            "text/plain": [
              "       Sex   Age\n",
              "10  female   4.0\n",
              "11  female  58.0\n",
              "12    male  20.0\n",
              "13    male  39.0\n",
              "14  female  14.0\n",
              "15  female  55.0"
            ],
            "text/html": [
              "\n",
              "  <div id=\"df-e57b4450-2837-4fe4-aa23-fab153652799\">\n",
              "    <div class=\"colab-df-container\">\n",
              "      <div>\n",
              "<style scoped>\n",
              "    .dataframe tbody tr th:only-of-type {\n",
              "        vertical-align: middle;\n",
              "    }\n",
              "\n",
              "    .dataframe tbody tr th {\n",
              "        vertical-align: top;\n",
              "    }\n",
              "\n",
              "    .dataframe thead th {\n",
              "        text-align: right;\n",
              "    }\n",
              "</style>\n",
              "<table border=\"1\" class=\"dataframe\">\n",
              "  <thead>\n",
              "    <tr style=\"text-align: right;\">\n",
              "      <th></th>\n",
              "      <th>Sex</th>\n",
              "      <th>Age</th>\n",
              "    </tr>\n",
              "  </thead>\n",
              "  <tbody>\n",
              "    <tr>\n",
              "      <th>10</th>\n",
              "      <td>female</td>\n",
              "      <td>4.0</td>\n",
              "    </tr>\n",
              "    <tr>\n",
              "      <th>11</th>\n",
              "      <td>female</td>\n",
              "      <td>58.0</td>\n",
              "    </tr>\n",
              "    <tr>\n",
              "      <th>12</th>\n",
              "      <td>male</td>\n",
              "      <td>20.0</td>\n",
              "    </tr>\n",
              "    <tr>\n",
              "      <th>13</th>\n",
              "      <td>male</td>\n",
              "      <td>39.0</td>\n",
              "    </tr>\n",
              "    <tr>\n",
              "      <th>14</th>\n",
              "      <td>female</td>\n",
              "      <td>14.0</td>\n",
              "    </tr>\n",
              "    <tr>\n",
              "      <th>15</th>\n",
              "      <td>female</td>\n",
              "      <td>55.0</td>\n",
              "    </tr>\n",
              "  </tbody>\n",
              "</table>\n",
              "</div>\n",
              "      <button class=\"colab-df-convert\" onclick=\"convertToInteractive('df-e57b4450-2837-4fe4-aa23-fab153652799')\"\n",
              "              title=\"Convert this dataframe to an interactive table.\"\n",
              "              style=\"display:none;\">\n",
              "        \n",
              "  <svg xmlns=\"http://www.w3.org/2000/svg\" height=\"24px\"viewBox=\"0 0 24 24\"\n",
              "       width=\"24px\">\n",
              "    <path d=\"M0 0h24v24H0V0z\" fill=\"none\"/>\n",
              "    <path d=\"M18.56 5.44l.94 2.06.94-2.06 2.06-.94-2.06-.94-.94-2.06-.94 2.06-2.06.94zm-11 1L8.5 8.5l.94-2.06 2.06-.94-2.06-.94L8.5 2.5l-.94 2.06-2.06.94zm10 10l.94 2.06.94-2.06 2.06-.94-2.06-.94-.94-2.06-.94 2.06-2.06.94z\"/><path d=\"M17.41 7.96l-1.37-1.37c-.4-.4-.92-.59-1.43-.59-.52 0-1.04.2-1.43.59L10.3 9.45l-7.72 7.72c-.78.78-.78 2.05 0 2.83L4 21.41c.39.39.9.59 1.41.59.51 0 1.02-.2 1.41-.59l7.78-7.78 2.81-2.81c.8-.78.8-2.07 0-2.86zM5.41 20L4 18.59l7.72-7.72 1.47 1.35L5.41 20z\"/>\n",
              "  </svg>\n",
              "      </button>\n",
              "      \n",
              "  <style>\n",
              "    .colab-df-container {\n",
              "      display:flex;\n",
              "      flex-wrap:wrap;\n",
              "      gap: 12px;\n",
              "    }\n",
              "\n",
              "    .colab-df-convert {\n",
              "      background-color: #E8F0FE;\n",
              "      border: none;\n",
              "      border-radius: 50%;\n",
              "      cursor: pointer;\n",
              "      display: none;\n",
              "      fill: #1967D2;\n",
              "      height: 32px;\n",
              "      padding: 0 0 0 0;\n",
              "      width: 32px;\n",
              "    }\n",
              "\n",
              "    .colab-df-convert:hover {\n",
              "      background-color: #E2EBFA;\n",
              "      box-shadow: 0px 1px 2px rgba(60, 64, 67, 0.3), 0px 1px 3px 1px rgba(60, 64, 67, 0.15);\n",
              "      fill: #174EA6;\n",
              "    }\n",
              "\n",
              "    [theme=dark] .colab-df-convert {\n",
              "      background-color: #3B4455;\n",
              "      fill: #D2E3FC;\n",
              "    }\n",
              "\n",
              "    [theme=dark] .colab-df-convert:hover {\n",
              "      background-color: #434B5C;\n",
              "      box-shadow: 0px 1px 3px 1px rgba(0, 0, 0, 0.15);\n",
              "      filter: drop-shadow(0px 1px 2px rgba(0, 0, 0, 0.3));\n",
              "      fill: #FFFFFF;\n",
              "    }\n",
              "  </style>\n",
              "\n",
              "      <script>\n",
              "        const buttonEl =\n",
              "          document.querySelector('#df-e57b4450-2837-4fe4-aa23-fab153652799 button.colab-df-convert');\n",
              "        buttonEl.style.display =\n",
              "          google.colab.kernel.accessAllowed ? 'block' : 'none';\n",
              "\n",
              "        async function convertToInteractive(key) {\n",
              "          const element = document.querySelector('#df-e57b4450-2837-4fe4-aa23-fab153652799');\n",
              "          const dataTable =\n",
              "            await google.colab.kernel.invokeFunction('convertToInteractive',\n",
              "                                                     [key], {});\n",
              "          if (!dataTable) return;\n",
              "\n",
              "          const docLinkHtml = 'Like what you see? Visit the ' +\n",
              "            '<a target=\"_blank\" href=https://colab.research.google.com/notebooks/data_table.ipynb>data table notebook</a>'\n",
              "            + ' to learn more about interactive tables.';\n",
              "          element.innerHTML = '';\n",
              "          dataTable['output_type'] = 'display_data';\n",
              "          await google.colab.output.renderOutput(dataTable, element);\n",
              "          const docLink = document.createElement('div');\n",
              "          docLink.innerHTML = docLinkHtml;\n",
              "          element.appendChild(docLink);\n",
              "        }\n",
              "      </script>\n",
              "    </div>\n",
              "  </div>\n",
              "  "
            ]
          },
          "metadata": {},
          "execution_count": 10
        }
      ]
    },
    {
      "cell_type": "markdown",
      "source": [
        "##C. Nominal Level (Qualitative)\n",
        "\n",
        "Nominal data are usually categorical data. Since they don't have numerical values, it doesn't make sense to add, subtract, multiply, or divide this kind of data (even if they are numbers)."
      ],
      "metadata": {
        "id": "JwmHmhkSivHQ"
      }
    },
    {
      "cell_type": "markdown",
      "source": [
        "### Mode\n",
        "\n",
        "Finding the most common value/majority/mode is a good measure of center for nominal data.\n",
        "\n",
        "Here we can see that the modes are:\n",
        "* `Survived`: 0, most passengers didn't survive\n",
        "* `Sex`: male, most passengers were male\n",
        "* `Embarked`: C, most embarked from Cherbourg\n",
        "\n",
        "Note that we don't get the mode for `PassengerId`, `Name`, `Ticket`, and `Cabin` since the values are mostly unique. Although, if you're interested, you could find the most common male and female passenger names."
      ],
      "metadata": {
        "id": "jVbAcs4E1tQi"
      }
    },
    {
      "cell_type": "code",
      "source": [
        "# Find the mode\n",
        "print('Mode values:')\n",
        "df_titanic[['Survived', 'Sex', 'Embarked']].mode()\n"
      ],
      "metadata": {
        "id": "t00oH55hjAJ4",
        "colab": {
          "base_uri": "https://localhost:8080/",
          "height": 98
        },
        "outputId": "37017c1d-dead-4877-e2bb-4e4e063da00a"
      },
      "execution_count": null,
      "outputs": [
        {
          "output_type": "stream",
          "name": "stdout",
          "text": [
            "Mode values:\n"
          ]
        },
        {
          "output_type": "execute_result",
          "data": {
            "text/plain": [
              "   Survived   Sex Embarked\n",
              "0         0  male        S"
            ],
            "text/html": [
              "\n",
              "  <div id=\"df-e1662b9c-cc60-4a36-a163-dbe9231cb209\">\n",
              "    <div class=\"colab-df-container\">\n",
              "      <div>\n",
              "<style scoped>\n",
              "    .dataframe tbody tr th:only-of-type {\n",
              "        vertical-align: middle;\n",
              "    }\n",
              "\n",
              "    .dataframe tbody tr th {\n",
              "        vertical-align: top;\n",
              "    }\n",
              "\n",
              "    .dataframe thead th {\n",
              "        text-align: right;\n",
              "    }\n",
              "</style>\n",
              "<table border=\"1\" class=\"dataframe\">\n",
              "  <thead>\n",
              "    <tr style=\"text-align: right;\">\n",
              "      <th></th>\n",
              "      <th>Survived</th>\n",
              "      <th>Sex</th>\n",
              "      <th>Embarked</th>\n",
              "    </tr>\n",
              "  </thead>\n",
              "  <tbody>\n",
              "    <tr>\n",
              "      <th>0</th>\n",
              "      <td>0</td>\n",
              "      <td>male</td>\n",
              "      <td>S</td>\n",
              "    </tr>\n",
              "  </tbody>\n",
              "</table>\n",
              "</div>\n",
              "      <button class=\"colab-df-convert\" onclick=\"convertToInteractive('df-e1662b9c-cc60-4a36-a163-dbe9231cb209')\"\n",
              "              title=\"Convert this dataframe to an interactive table.\"\n",
              "              style=\"display:none;\">\n",
              "        \n",
              "  <svg xmlns=\"http://www.w3.org/2000/svg\" height=\"24px\"viewBox=\"0 0 24 24\"\n",
              "       width=\"24px\">\n",
              "    <path d=\"M0 0h24v24H0V0z\" fill=\"none\"/>\n",
              "    <path d=\"M18.56 5.44l.94 2.06.94-2.06 2.06-.94-2.06-.94-.94-2.06-.94 2.06-2.06.94zm-11 1L8.5 8.5l.94-2.06 2.06-.94-2.06-.94L8.5 2.5l-.94 2.06-2.06.94zm10 10l.94 2.06.94-2.06 2.06-.94-2.06-.94-.94-2.06-.94 2.06-2.06.94z\"/><path d=\"M17.41 7.96l-1.37-1.37c-.4-.4-.92-.59-1.43-.59-.52 0-1.04.2-1.43.59L10.3 9.45l-7.72 7.72c-.78.78-.78 2.05 0 2.83L4 21.41c.39.39.9.59 1.41.59.51 0 1.02-.2 1.41-.59l7.78-7.78 2.81-2.81c.8-.78.8-2.07 0-2.86zM5.41 20L4 18.59l7.72-7.72 1.47 1.35L5.41 20z\"/>\n",
              "  </svg>\n",
              "      </button>\n",
              "      \n",
              "  <style>\n",
              "    .colab-df-container {\n",
              "      display:flex;\n",
              "      flex-wrap:wrap;\n",
              "      gap: 12px;\n",
              "    }\n",
              "\n",
              "    .colab-df-convert {\n",
              "      background-color: #E8F0FE;\n",
              "      border: none;\n",
              "      border-radius: 50%;\n",
              "      cursor: pointer;\n",
              "      display: none;\n",
              "      fill: #1967D2;\n",
              "      height: 32px;\n",
              "      padding: 0 0 0 0;\n",
              "      width: 32px;\n",
              "    }\n",
              "\n",
              "    .colab-df-convert:hover {\n",
              "      background-color: #E2EBFA;\n",
              "      box-shadow: 0px 1px 2px rgba(60, 64, 67, 0.3), 0px 1px 3px 1px rgba(60, 64, 67, 0.15);\n",
              "      fill: #174EA6;\n",
              "    }\n",
              "\n",
              "    [theme=dark] .colab-df-convert {\n",
              "      background-color: #3B4455;\n",
              "      fill: #D2E3FC;\n",
              "    }\n",
              "\n",
              "    [theme=dark] .colab-df-convert:hover {\n",
              "      background-color: #434B5C;\n",
              "      box-shadow: 0px 1px 3px 1px rgba(0, 0, 0, 0.15);\n",
              "      filter: drop-shadow(0px 1px 2px rgba(0, 0, 0, 0.3));\n",
              "      fill: #FFFFFF;\n",
              "    }\n",
              "  </style>\n",
              "\n",
              "      <script>\n",
              "        const buttonEl =\n",
              "          document.querySelector('#df-e1662b9c-cc60-4a36-a163-dbe9231cb209 button.colab-df-convert');\n",
              "        buttonEl.style.display =\n",
              "          google.colab.kernel.accessAllowed ? 'block' : 'none';\n",
              "\n",
              "        async function convertToInteractive(key) {\n",
              "          const element = document.querySelector('#df-e1662b9c-cc60-4a36-a163-dbe9231cb209');\n",
              "          const dataTable =\n",
              "            await google.colab.kernel.invokeFunction('convertToInteractive',\n",
              "                                                     [key], {});\n",
              "          if (!dataTable) return;\n",
              "\n",
              "          const docLinkHtml = 'Like what you see? Visit the ' +\n",
              "            '<a target=\"_blank\" href=https://colab.research.google.com/notebooks/data_table.ipynb>data table notebook</a>'\n",
              "            + ' to learn more about interactive tables.';\n",
              "          element.innerHTML = '';\n",
              "          dataTable['output_type'] = 'display_data';\n",
              "          await google.colab.output.renderOutput(dataTable, element);\n",
              "          const docLink = document.createElement('div');\n",
              "          docLink.innerHTML = docLinkHtml;\n",
              "          element.appendChild(docLink);\n",
              "        }\n",
              "      </script>\n",
              "    </div>\n",
              "  </div>\n",
              "  "
            ]
          },
          "metadata": {},
          "execution_count": 11
        }
      ]
    },
    {
      "cell_type": "markdown",
      "source": [
        "##D. Ordinal Level (Qualitative)\n",
        "\n",
        "Ordinal data are still qualitative (so no arithmetic!), but we can do more things here than on nominal data."
      ],
      "metadata": {
        "id": "DnFWLaRki1qE"
      }
    },
    {
      "cell_type": "markdown",
      "source": [
        "### Ordering\n",
        "First thing we can do is to sort the data."
      ],
      "metadata": {
        "id": "ZgG_aum51y6k"
      }
    },
    {
      "cell_type": "code",
      "source": [
        "# Sort 'Pclass'\n",
        "print('Ordered values:')\n",
        "ordered_pclass = df_titanic['Pclass'].sort_values().to_numpy()\n",
        "print(ordered_pclass)"
      ],
      "metadata": {
        "colab": {
          "base_uri": "https://localhost:8080/"
        },
        "id": "BpwU_qC4Z8JM",
        "outputId": "4ced0f52-49cf-47ad-ad6b-b33dbcdabb65"
      },
      "execution_count": null,
      "outputs": [
        {
          "output_type": "stream",
          "name": "stdout",
          "text": [
            "Ordered values:\n",
            "[1 1 1 1 1 1 1 1 1 1 1 1 1 1 1 1 1 1 1 1 1 1 1 1 1 1 1 1 1 1 1 1 1 1 1 1 1\n",
            " 1 1 1 1 1 1 1 1 1 1 1 1 1 1 1 1 1 1 1 1 1 1 1 1 1 1 1 1 1 1 1 1 1 1 1 1 1\n",
            " 1 1 1 1 1 1 1 1 1 1 1 1 1 1 1 1 1 1 1 1 1 1 1 1 1 1 1 1 1 1 1 1 1 1 1 1 1\n",
            " 1 1 1 1 1 1 1 1 1 1 1 1 1 1 1 1 1 1 1 1 1 1 1 1 1 1 1 1 1 1 1 1 1 1 1 1 1\n",
            " 1 1 1 1 1 1 1 1 1 1 1 1 1 1 1 1 1 1 1 1 1 1 1 1 1 1 1 1 1 1 1 1 1 1 1 1 1\n",
            " 1 1 1 1 1 1 1 1 1 1 1 1 1 1 1 1 1 1 1 1 1 1 1 1 1 1 1 1 1 1 1 2 2 2 2 2 2\n",
            " 2 2 2 2 2 2 2 2 2 2 2 2 2 2 2 2 2 2 2 2 2 2 2 2 2 2 2 2 2 2 2 2 2 2 2 2 2\n",
            " 2 2 2 2 2 2 2 2 2 2 2 2 2 2 2 2 2 2 2 2 2 2 2 2 2 2 2 2 2 2 2 2 2 2 2 2 2\n",
            " 2 2 2 2 2 2 2 2 2 2 2 2 2 2 2 2 2 2 2 2 2 2 2 2 2 2 2 2 2 2 2 2 2 2 2 2 2\n",
            " 2 2 2 2 2 2 2 2 2 2 2 2 2 2 2 2 2 2 2 2 2 2 2 2 2 2 2 2 2 2 2 2 2 2 2 2 2\n",
            " 2 2 2 2 2 2 2 2 2 2 2 2 2 2 2 2 2 2 2 2 2 2 2 2 2 2 2 2 2 2 3 3 3 3 3 3 3\n",
            " 3 3 3 3 3 3 3 3 3 3 3 3 3 3 3 3 3 3 3 3 3 3 3 3 3 3 3 3 3 3 3 3 3 3 3 3 3\n",
            " 3 3 3 3 3 3 3 3 3 3 3 3 3 3 3 3 3 3 3 3 3 3 3 3 3 3 3 3 3 3 3 3 3 3 3 3 3\n",
            " 3 3 3 3 3 3 3 3 3 3 3 3 3 3 3 3 3 3 3 3 3 3 3 3 3 3 3 3 3 3 3 3 3 3 3 3 3\n",
            " 3 3 3 3 3 3 3 3 3 3 3 3 3 3 3 3 3 3 3 3 3 3 3 3 3 3 3 3 3 3 3 3 3 3 3 3 3\n",
            " 3 3 3 3 3 3 3 3 3 3 3 3 3 3 3 3 3 3 3 3 3 3 3 3 3 3 3 3 3 3 3 3 3 3 3 3 3\n",
            " 3 3 3 3 3 3 3 3 3 3 3 3 3 3 3 3 3 3 3 3 3 3 3 3 3 3 3 3 3 3 3 3 3 3 3 3 3\n",
            " 3 3 3 3 3 3 3 3 3 3 3 3 3 3 3 3 3 3 3 3 3 3 3 3 3 3 3 3 3 3 3 3 3 3 3 3 3\n",
            " 3 3 3 3 3 3 3 3 3 3 3 3 3 3 3 3 3 3 3 3 3 3 3 3 3 3 3 3 3 3 3 3 3 3 3 3 3\n",
            " 3 3 3 3 3 3 3 3 3 3 3 3 3 3 3 3 3 3 3 3 3 3 3 3 3 3 3 3 3 3 3 3 3 3 3 3 3\n",
            " 3 3 3 3 3 3 3 3 3 3 3 3 3 3 3 3 3 3 3 3 3 3 3 3 3 3 3 3 3 3 3 3 3 3 3 3 3\n",
            " 3 3 3 3 3 3 3 3 3 3 3 3 3 3 3 3 3 3 3 3 3 3 3 3 3 3 3 3 3 3 3 3 3 3 3 3 3\n",
            " 3 3 3 3 3 3 3 3 3 3 3 3 3 3 3 3 3 3 3 3 3 3 3 3 3 3 3 3 3 3 3 3 3 3 3 3 3\n",
            " 3 3 3 3 3 3 3 3 3 3 3 3 3 3 3 3 3 3 3 3 3 3 3 3 3 3 3 3 3 3 3 3 3 3 3 3 3\n",
            " 3 3 3]\n"
          ]
        }
      ]
    },
    {
      "cell_type": "markdown",
      "source": [
        "### Median\n",
        "\n",
        "Then we can get the median, which is the middle value of the sorted data.\n",
        "\n",
        "There are several ways to do this."
      ],
      "metadata": {
        "id": "MQ36jRhb16bO"
      }
    },
    {
      "cell_type": "code",
      "source": [
        "# Find the median\n",
        "print('Median value:')\n",
        "\n",
        "# numpy way\n",
        "print('numpy:', np.median(ordered_pclass))\n",
        "\n",
        "# panda way\n",
        "print('panda:', df_titanic['Pclass'].median())"
      ],
      "metadata": {
        "id": "GOTH1MyFi_oi",
        "colab": {
          "base_uri": "https://localhost:8080/"
        },
        "outputId": "4ba58e2f-cf04-4fe5-8c9b-949dddbb76a8"
      },
      "execution_count": null,
      "outputs": [
        {
          "output_type": "stream",
          "name": "stdout",
          "text": [
            "Median value:\n",
            "numpy: 3.0\n",
            "panda: 3.0\n"
          ]
        }
      ]
    },
    {
      "cell_type": "markdown",
      "source": [
        "The median of passenger class is 3, meaning third-class passengers were more common on the Titanic.\n",
        "\n",
        "The median is useful for measuring the center since it's quite robust to outliers (extremely high or low values). In this example, `1000` is obviously an outlier, which skews the data towards it. But the median is not affected by it."
      ],
      "metadata": {
        "id": "gu7n3OzAFGNL"
      }
    },
    {
      "cell_type": "code",
      "source": [
        "# Median of data with outliers\n",
        "example = [1,2,2,3,4,5,1000]\n",
        "print('Data:', example)\n",
        "print('Median value:', np.median(example))"
      ],
      "metadata": {
        "colab": {
          "base_uri": "https://localhost:8080/"
        },
        "id": "rMesM0hdHRUB",
        "outputId": "119f5d6f-7965-4589-accf-d31581d4fc26"
      },
      "execution_count": null,
      "outputs": [
        {
          "output_type": "stream",
          "name": "stdout",
          "text": [
            "Data: [1, 2, 2, 3, 4, 5, 1000]\n",
            "Median value: 3.0\n"
          ]
        }
      ]
    },
    {
      "cell_type": "markdown",
      "source": [
        "Note that if there is an even number of samples in the data, the median is the average of the two middle values. This might result to rational values (e.g., 2.5). In such cases, it might be better to use other measures such as mode."
      ],
      "metadata": {
        "id": "UGggJJpcG-Bg"
      }
    },
    {
      "cell_type": "code",
      "source": [
        "# Median of even-numbered data\n",
        "example = [1,2,2,3,4,5]\n",
        "print('Data:', example)\n",
        "print('Median value:', np.median(example))"
      ],
      "metadata": {
        "colab": {
          "base_uri": "https://localhost:8080/"
        },
        "id": "wh7aamMMd2Hk",
        "outputId": "01086311-5c84-4fe6-ae4f-2162fdcf5b60"
      },
      "execution_count": null,
      "outputs": [
        {
          "output_type": "stream",
          "name": "stdout",
          "text": [
            "Data: [1, 2, 2, 3, 4, 5]\n",
            "Median value: 2.5\n"
          ]
        }
      ]
    },
    {
      "cell_type": "markdown",
      "source": [
        "##E. Interval Level (Quantitative)\n",
        "\n",
        "Data on the interval level are quantitative. So arithmetic operations are applicable, but not all. Since there is no absolute/natural zero, multiplying or dividing this kind of data might not make sense; otherwise, we might end up with meaningless ratios or negative values.\n",
        "\n",
        "However, we can still add, subtract, and measure the average and the variation. "
      ],
      "metadata": {
        "id": "3jaUHxsei40J"
      }
    },
    {
      "cell_type": "markdown",
      "source": [
        "### Adding/subtracting\n",
        "\n",
        "We created a random variable `BodyTemp` for the imaginary body temperature of the passengers when they were aboard the Titanic.\n",
        "\n",
        "We can check how many of them had normal body temperature, which is between 36 to 38 C.\n"
      ],
      "metadata": {
        "id": "j_uCMLwU2D6u"
      }
    },
    {
      "cell_type": "code",
      "source": [
        "# Check 'BodyTemp' for normal range\n",
        "print('Passengers with normal body temparature:')\n",
        "df_titanic['BodyTemp'].between(36,38).value_counts()"
      ],
      "metadata": {
        "id": "8HOA5A9Pi_GC",
        "colab": {
          "base_uri": "https://localhost:8080/"
        },
        "outputId": "ae676ff4-6940-4bb9-e434-da1f45e4545b"
      },
      "execution_count": null,
      "outputs": [
        {
          "output_type": "stream",
          "name": "stdout",
          "text": [
            "Passengers with normal body temparature:\n"
          ]
        },
        {
          "output_type": "execute_result",
          "data": {
            "text/plain": [
              "True     607\n",
              "False    284\n",
              "Name: BodyTemp, dtype: int64"
            ]
          },
          "metadata": {},
          "execution_count": 16
        }
      ]
    },
    {
      "cell_type": "markdown",
      "source": [
        "It looks like one-third of the passengers were at risk of having an abnormal temperature. \n",
        "\n",
        "Now suppose over time, people's body temperature decreased by 1 C due to the weather. Let's see if this has affected the passengers' normal temperature."
      ],
      "metadata": {
        "id": "ozn1fwIrCIRk"
      }
    },
    {
      "cell_type": "code",
      "source": [
        "# Subtract 1C to each passenger then \n",
        "# check 'BodyTemp' for normal range again\n",
        "print('Passengers with normal body temparature:')\n",
        "df_titanic['BodyTemp'].subtract(1).between(36,38).value_counts()"
      ],
      "metadata": {
        "colab": {
          "base_uri": "https://localhost:8080/"
        },
        "id": "IPcjqhfQEjCA",
        "outputId": "a3fa9475-7afd-4900-cd6d-cde999f0e99b"
      },
      "execution_count": null,
      "outputs": [
        {
          "output_type": "stream",
          "name": "stdout",
          "text": [
            "Passengers with normal body temparature:\n"
          ]
        },
        {
          "output_type": "execute_result",
          "data": {
            "text/plain": [
              "False    576\n",
              "True     315\n",
              "Name: BodyTemp, dtype: int64"
            ]
          },
          "metadata": {},
          "execution_count": 17
        }
      ]
    },
    {
      "cell_type": "markdown",
      "source": [
        "Majority of the passengers became at risk due to this change in temperature!"
      ],
      "metadata": {
        "id": "D6U098BxE86R"
      }
    },
    {
      "cell_type": "markdown",
      "source": [
        "### Arithmetic mean\n",
        "\n",
        "Returning to our original `BodyTemp` data, let's measure the average (mean) body temperature across all passengers."
      ],
      "metadata": {
        "id": "hD4opP2x2Lna"
      }
    },
    {
      "cell_type": "code",
      "source": [
        "# Find the mean 'BodyTemp' value\n",
        "mean_bodytemp = df_titanic['BodyTemp'].mean()\n",
        "print('Mean body temperature: %.2f' % mean_bodytemp)"
      ],
      "metadata": {
        "colab": {
          "base_uri": "https://localhost:8080/"
        },
        "id": "UZqYpTu2FmMt",
        "outputId": "e6cee883-8b89-46b8-91b5-3eb076fdae13"
      },
      "execution_count": null,
      "outputs": [
        {
          "output_type": "stream",
          "name": "stdout",
          "text": [
            "Mean body temperature: 36.53\n"
          ]
        }
      ]
    },
    {
      "cell_type": "markdown",
      "source": [
        "### Standard deviation\n",
        "\n",
        "On average, the passengers' body temperature are normal. This makes sense because majority of them are within the normal range.\n",
        "\n",
        "But let's see how much their body temperature differ from one another."
      ],
      "metadata": {
        "id": "1zBrkMzr2Rd-"
      }
    },
    {
      "cell_type": "code",
      "source": [
        "# Find the std 'BodyTemp' value\n",
        "std_bodytemp = df_titanic['BodyTemp'].std()\n",
        "print('Standard deviation of body temperature: %.2f' % std_bodytemp)\n",
        "\n",
        "print('\\nOn average, passengers had %.2f to %.2f C body temperature.' % (mean_bodytemp-std_bodytemp, mean_bodytemp+std_bodytemp))"
      ],
      "metadata": {
        "colab": {
          "base_uri": "https://localhost:8080/"
        },
        "id": "vP3bRX_kGfDV",
        "outputId": "87cd1847-3100-4516-fc22-01d15e5203be"
      },
      "execution_count": null,
      "outputs": [
        {
          "output_type": "stream",
          "name": "stdout",
          "text": [
            "Standard deviation of body temperature: 0.87\n",
            "\n",
            "On average, passengers had 35.67 to 37.40 C body temperature.\n"
          ]
        }
      ]
    },
    {
      "cell_type": "markdown",
      "source": [
        "Upon closer look, there were passengers who might have been experiencing low body temperature (below 36 C), as we have confirmed through the measure of variation of the data."
      ],
      "metadata": {
        "id": "XIeUhYPQIlnr"
      }
    },
    {
      "cell_type": "markdown",
      "source": [
        "##F. Ratio Level (Quantitative)\n",
        "\n",
        "The ratio level is the highest level of quantitative data. At this level, we can apply all operations and measures mentioned before.\n",
        "\n",
        "Since the ratio level has a natural zero and is strictly non-negative, we can use multiplication and division."
      ],
      "metadata": {
        "id": "AWBtjUAgi7IS"
      }
    },
    {
      "cell_type": "markdown",
      "source": [
        "### Multiplying/dividing\n",
        "\n",
        "Suppose we want to find how much the Titanic fare would cost in today's economy. Using a simple inflation calculator, we can estimate how much the fare would change from the Titanic event (British Pound, 1912) to today (British Pound, 2023). Furthermore, we can convert this into our own currency (Philippine Peso, 2023).\n",
        "\n",
        "Note that these are just simple estimates, and may not be accurate.\n",
        "\n",
        "Inflation calculator: [link](https://www.bankofengland.co.uk/monetary-policy/inflation/inflation-calculator)\n",
        "\n",
        "Currency exchange: [link](https://www.xe.com/currencyconverter/convert/?Amount=1&From=GBP&To=PHP)"
      ],
      "metadata": {
        "id": "XwqPKz_q2Z5R"
      }
    },
    {
      "cell_type": "code",
      "source": [
        "# Convert Titanic Fare to current currency value (GBP)\n",
        "inflation_rate = 90.40 \n",
        "df_titanic['Fare_2023'] = df_titanic['Fare'] * inflation_rate\n",
        "\n",
        "# Convert Titanic Fare to Philippine peso (PHP)\n",
        "gbp_php = 66.75\n",
        "df_titanic['Fare_2023_php'] = df_titanic['Fare_2023'] * gbp_php\n",
        "\n",
        "df_titanic[['Fare','Fare_2023', 'Fare_2023_php']]"
      ],
      "metadata": {
        "id": "sWgGp0_uLfki",
        "colab": {
          "base_uri": "https://localhost:8080/",
          "height": 423
        },
        "outputId": "fd22b5b7-f00b-4380-a3c7-96e265d22b1e"
      },
      "execution_count": null,
      "outputs": [
        {
          "output_type": "execute_result",
          "data": {
            "text/plain": [
              "        Fare   Fare_2023  Fare_2023_php\n",
              "0     7.2500   655.40000    43747.95000\n",
              "1    71.2833  6444.01032   430137.68886\n",
              "2     7.9250   716.42000    47821.03500\n",
              "3    53.1000  4800.24000   320416.02000\n",
              "4     8.0500   727.72000    48575.31000\n",
              "..       ...         ...            ...\n",
              "886  13.0000  1175.20000    78444.60000\n",
              "887  30.0000  2712.00000   181026.00000\n",
              "888  23.4500  2119.88000   141501.99000\n",
              "889  30.0000  2712.00000   181026.00000\n",
              "890   7.7500   700.60000    46765.05000\n",
              "\n",
              "[891 rows x 3 columns]"
            ],
            "text/html": [
              "\n",
              "  <div id=\"df-76b829f0-5b2c-4a03-ab5b-cbee6d917ca0\">\n",
              "    <div class=\"colab-df-container\">\n",
              "      <div>\n",
              "<style scoped>\n",
              "    .dataframe tbody tr th:only-of-type {\n",
              "        vertical-align: middle;\n",
              "    }\n",
              "\n",
              "    .dataframe tbody tr th {\n",
              "        vertical-align: top;\n",
              "    }\n",
              "\n",
              "    .dataframe thead th {\n",
              "        text-align: right;\n",
              "    }\n",
              "</style>\n",
              "<table border=\"1\" class=\"dataframe\">\n",
              "  <thead>\n",
              "    <tr style=\"text-align: right;\">\n",
              "      <th></th>\n",
              "      <th>Fare</th>\n",
              "      <th>Fare_2023</th>\n",
              "      <th>Fare_2023_php</th>\n",
              "    </tr>\n",
              "  </thead>\n",
              "  <tbody>\n",
              "    <tr>\n",
              "      <th>0</th>\n",
              "      <td>7.2500</td>\n",
              "      <td>655.40000</td>\n",
              "      <td>43747.95000</td>\n",
              "    </tr>\n",
              "    <tr>\n",
              "      <th>1</th>\n",
              "      <td>71.2833</td>\n",
              "      <td>6444.01032</td>\n",
              "      <td>430137.68886</td>\n",
              "    </tr>\n",
              "    <tr>\n",
              "      <th>2</th>\n",
              "      <td>7.9250</td>\n",
              "      <td>716.42000</td>\n",
              "      <td>47821.03500</td>\n",
              "    </tr>\n",
              "    <tr>\n",
              "      <th>3</th>\n",
              "      <td>53.1000</td>\n",
              "      <td>4800.24000</td>\n",
              "      <td>320416.02000</td>\n",
              "    </tr>\n",
              "    <tr>\n",
              "      <th>4</th>\n",
              "      <td>8.0500</td>\n",
              "      <td>727.72000</td>\n",
              "      <td>48575.31000</td>\n",
              "    </tr>\n",
              "    <tr>\n",
              "      <th>...</th>\n",
              "      <td>...</td>\n",
              "      <td>...</td>\n",
              "      <td>...</td>\n",
              "    </tr>\n",
              "    <tr>\n",
              "      <th>886</th>\n",
              "      <td>13.0000</td>\n",
              "      <td>1175.20000</td>\n",
              "      <td>78444.60000</td>\n",
              "    </tr>\n",
              "    <tr>\n",
              "      <th>887</th>\n",
              "      <td>30.0000</td>\n",
              "      <td>2712.00000</td>\n",
              "      <td>181026.00000</td>\n",
              "    </tr>\n",
              "    <tr>\n",
              "      <th>888</th>\n",
              "      <td>23.4500</td>\n",
              "      <td>2119.88000</td>\n",
              "      <td>141501.99000</td>\n",
              "    </tr>\n",
              "    <tr>\n",
              "      <th>889</th>\n",
              "      <td>30.0000</td>\n",
              "      <td>2712.00000</td>\n",
              "      <td>181026.00000</td>\n",
              "    </tr>\n",
              "    <tr>\n",
              "      <th>890</th>\n",
              "      <td>7.7500</td>\n",
              "      <td>700.60000</td>\n",
              "      <td>46765.05000</td>\n",
              "    </tr>\n",
              "  </tbody>\n",
              "</table>\n",
              "<p>891 rows × 3 columns</p>\n",
              "</div>\n",
              "      <button class=\"colab-df-convert\" onclick=\"convertToInteractive('df-76b829f0-5b2c-4a03-ab5b-cbee6d917ca0')\"\n",
              "              title=\"Convert this dataframe to an interactive table.\"\n",
              "              style=\"display:none;\">\n",
              "        \n",
              "  <svg xmlns=\"http://www.w3.org/2000/svg\" height=\"24px\"viewBox=\"0 0 24 24\"\n",
              "       width=\"24px\">\n",
              "    <path d=\"M0 0h24v24H0V0z\" fill=\"none\"/>\n",
              "    <path d=\"M18.56 5.44l.94 2.06.94-2.06 2.06-.94-2.06-.94-.94-2.06-.94 2.06-2.06.94zm-11 1L8.5 8.5l.94-2.06 2.06-.94-2.06-.94L8.5 2.5l-.94 2.06-2.06.94zm10 10l.94 2.06.94-2.06 2.06-.94-2.06-.94-.94-2.06-.94 2.06-2.06.94z\"/><path d=\"M17.41 7.96l-1.37-1.37c-.4-.4-.92-.59-1.43-.59-.52 0-1.04.2-1.43.59L10.3 9.45l-7.72 7.72c-.78.78-.78 2.05 0 2.83L4 21.41c.39.39.9.59 1.41.59.51 0 1.02-.2 1.41-.59l7.78-7.78 2.81-2.81c.8-.78.8-2.07 0-2.86zM5.41 20L4 18.59l7.72-7.72 1.47 1.35L5.41 20z\"/>\n",
              "  </svg>\n",
              "      </button>\n",
              "      \n",
              "  <style>\n",
              "    .colab-df-container {\n",
              "      display:flex;\n",
              "      flex-wrap:wrap;\n",
              "      gap: 12px;\n",
              "    }\n",
              "\n",
              "    .colab-df-convert {\n",
              "      background-color: #E8F0FE;\n",
              "      border: none;\n",
              "      border-radius: 50%;\n",
              "      cursor: pointer;\n",
              "      display: none;\n",
              "      fill: #1967D2;\n",
              "      height: 32px;\n",
              "      padding: 0 0 0 0;\n",
              "      width: 32px;\n",
              "    }\n",
              "\n",
              "    .colab-df-convert:hover {\n",
              "      background-color: #E2EBFA;\n",
              "      box-shadow: 0px 1px 2px rgba(60, 64, 67, 0.3), 0px 1px 3px 1px rgba(60, 64, 67, 0.15);\n",
              "      fill: #174EA6;\n",
              "    }\n",
              "\n",
              "    [theme=dark] .colab-df-convert {\n",
              "      background-color: #3B4455;\n",
              "      fill: #D2E3FC;\n",
              "    }\n",
              "\n",
              "    [theme=dark] .colab-df-convert:hover {\n",
              "      background-color: #434B5C;\n",
              "      box-shadow: 0px 1px 3px 1px rgba(0, 0, 0, 0.15);\n",
              "      filter: drop-shadow(0px 1px 2px rgba(0, 0, 0, 0.3));\n",
              "      fill: #FFFFFF;\n",
              "    }\n",
              "  </style>\n",
              "\n",
              "      <script>\n",
              "        const buttonEl =\n",
              "          document.querySelector('#df-76b829f0-5b2c-4a03-ab5b-cbee6d917ca0 button.colab-df-convert');\n",
              "        buttonEl.style.display =\n",
              "          google.colab.kernel.accessAllowed ? 'block' : 'none';\n",
              "\n",
              "        async function convertToInteractive(key) {\n",
              "          const element = document.querySelector('#df-76b829f0-5b2c-4a03-ab5b-cbee6d917ca0');\n",
              "          const dataTable =\n",
              "            await google.colab.kernel.invokeFunction('convertToInteractive',\n",
              "                                                     [key], {});\n",
              "          if (!dataTable) return;\n",
              "\n",
              "          const docLinkHtml = 'Like what you see? Visit the ' +\n",
              "            '<a target=\"_blank\" href=https://colab.research.google.com/notebooks/data_table.ipynb>data table notebook</a>'\n",
              "            + ' to learn more about interactive tables.';\n",
              "          element.innerHTML = '';\n",
              "          dataTable['output_type'] = 'display_data';\n",
              "          await google.colab.output.renderOutput(dataTable, element);\n",
              "          const docLink = document.createElement('div');\n",
              "          docLink.innerHTML = docLinkHtml;\n",
              "          element.appendChild(docLink);\n",
              "        }\n",
              "      </script>\n",
              "    </div>\n",
              "  </div>\n",
              "  "
            ]
          },
          "metadata": {},
          "execution_count": 20
        }
      ]
    },
    {
      "cell_type": "markdown",
      "source": [
        "### Geometric mean\n",
        "\n",
        "Since ratio-level data are always non-negative, we can use the geometric mean as an alternative to measuring the center.\n",
        "\n",
        "* Arithmetic mean: add all samples, then divide by the number of samples\n",
        "* Geometric mean: multiply all samples, then get the nth root (n=number of samples)\n",
        "\n",
        "To compute the geometric mean, we can use the [SciPy library](https://scipy.org/). Note that we'll need to drop the zero values since that would result to a zero product.\n",
        "\n",
        "The more variations in the data, the greater the difference between the two means."
      ],
      "metadata": {
        "id": "lRqMHWAR2eBd"
      }
    },
    {
      "cell_type": "code",
      "source": [
        "# Compare the arithmetic and geometric means\n",
        "from scipy import stats\n",
        "\n",
        "# Select non-zero Fares\n",
        "pos_fare = df_titanic.loc[(df_titanic['Fare'] > 0), 'Fare']\n",
        "# Compute geometric mean\n",
        "gmean_fare = stats.gmean(pos_fare)\n",
        "\n",
        "# Compute arithmetic mean\n",
        "amean_fare = df_titanic['Fare'].mean()\n",
        "\n",
        "print('Geometric mean of Titanic fare: %.2f' % gmean_fare)\n",
        "print('Arithmetic mean of Titanic fare: %.2f' % amean_fare)"
      ],
      "metadata": {
        "id": "tReXmvkYi-cX",
        "colab": {
          "base_uri": "https://localhost:8080/"
        },
        "outputId": "0906dce5-0676-4009-d1ad-1d9080ef4f2a"
      },
      "execution_count": null,
      "outputs": [
        {
          "output_type": "stream",
          "name": "stdout",
          "text": [
            "Geometric mean of Titanic fare: 18.98\n",
            "Arithmetic mean of Titanic fare: 32.20\n"
          ]
        }
      ]
    },
    {
      "cell_type": "markdown",
      "source": [
        "Using geometric mean instead of arithmetic mean depends on the variable. In this case (`Fare`), we see that the arithmetic mean is almost twice as high as the geometric mean. We will need to further explore the data before we decide which is a better measure of center.\n",
        "\n",
        "\n",
        "Geometric mean is mostly applied to financial and time-series analysis. In general, it's useful when the data is in a series and compounds through time. But it cannot be used on data with negative or zero values."
      ],
      "metadata": {
        "id": "Sr0I4lsrUhqx"
      }
    },
    {
      "cell_type": "markdown",
      "source": [
        "## Summary\n",
        "\n",
        "In this lesson, you learned the different types of data and what we can do to each type. \n",
        "\n",
        "Next lesson, we will discuss the steps in a data science pipeline, and you will learn the different ways to explore our data."
      ],
      "metadata": {
        "id": "PEdLY8ktWzpj"
      }
    },
    {
      "cell_type": "markdown",
      "source": [
        "## References\n",
        "* Ozdemir, *Principles of Data Science*, 2016\n",
        "* *Python Data Analysis Library*, 2008 ([link](https://pandas.pydata.org/docs/index.html))\n",
        "* *Scipy Library*, 2001 ([link](https://scipy.org/))\n",
        "* Deepanshi, *Text Preprocessing in NLP with Python codes*, 2022 ([link](https://www.analyticsvidhya.com/blog/2021/06/text-preprocessing-in-nlp-with-python-codes/))\n",
        "* *Amazon reviews data set* ([link](https://www.kaggle.com/datasets/bittlingmayer/amazonreviews))\n",
        "* *Titanic data set* ([link](https://www.kaggle.com/c/titanic))\n",
        "\n"
      ],
      "metadata": {
        "id": "acRI7UeTfpHK"
      }
    }
  ]
}